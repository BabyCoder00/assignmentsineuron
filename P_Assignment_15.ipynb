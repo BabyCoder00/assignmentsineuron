{
 "cells": [
  {
   "cell_type": "markdown",
   "id": "54dfb04e-ab12-40ea-9042-1c89ebca9648",
   "metadata": {},
   "source": [
    "Question 1:\n",
    "Please write a program using generator to print the numbers which can be divisible by 5 and 7 between 0 and n in comma separated form while n is input by console.\n",
    "Example:\n",
    "If the following n is given as input to the program:\n",
    "100\n",
    "Then, the output of the program should be:\n",
    "0,35,70\n"
   ]
  },
  {
   "cell_type": "code",
   "execution_count": 1,
   "id": "c58b727a-f1f1-4679-9292-8d245f2bcb7d",
   "metadata": {},
   "outputs": [
    {
     "name": "stdin",
     "output_type": "stream",
     "text": [
      "Enter a number:  100\n"
     ]
    },
    {
     "name": "stdout",
     "output_type": "stream",
     "text": [
      "0,35,70\n"
     ]
    }
   ],
   "source": [
    "def divisible_by_5_and_7(n):\n",
    "    # Iterate over numbers from 0 to n\n",
    "    for i in range(n + 1):\n",
    "        # Check if the number is divisible by both 5 and 7\n",
    "        if i % 5 == 0 and i % 7 == 0:\n",
    "            yield i\n",
    "\n",
    "# Input the value of n\n",
    "n = int(input(\"Enter a number: \"))\n",
    "\n",
    "# Generate numbers divisible by 5 and 7 using the generator\n",
    "result = divisible_by_5_and_7(n)\n",
    "\n",
    "# Convert the generator output to a comma-separated string and print\n",
    "output = ','.join(map(str, result))\n",
    "print(output)\n"
   ]
  },
  {
   "cell_type": "markdown",
   "id": "dda40961-3f0b-4c44-8d6a-21db6cfa73cd",
   "metadata": {},
   "source": [
    "Question 2:\n",
    "Please write a program using generator to print the even numbers between 0 and n in comma separated form while n is input by console.\n",
    "Example:\n",
    "If the following n is given as input to the program:\n",
    "10\n",
    "Then, the output of the program should be:\n",
    "0,2,4,6,8,10\n"
   ]
  },
  {
   "cell_type": "code",
   "execution_count": 2,
   "id": "93627f47-c944-4dcd-bfc1-e755fdba83ca",
   "metadata": {},
   "outputs": [
    {
     "name": "stdin",
     "output_type": "stream",
     "text": [
      "Enter a number:  10\n"
     ]
    },
    {
     "name": "stdout",
     "output_type": "stream",
     "text": [
      "0,2,4,6,8,10\n"
     ]
    }
   ],
   "source": [
    "def even_numbers(n):\n",
    "    # Iterate over numbers from 0 to n\n",
    "    for i in range(n + 1):\n",
    "        # Check if the number is even\n",
    "        if i % 2 == 0:\n",
    "            yield i\n",
    "\n",
    "# Input the value of n\n",
    "n = int(input(\"Enter a number: \"))\n",
    "\n",
    "# Generate even numbers using the generator\n",
    "result = even_numbers(n)\n",
    "\n",
    "# Convert the generator output to a comma-separated string and print\n",
    "output = ','.join(map(str, result))\n",
    "print(output)\n"
   ]
  },
  {
   "cell_type": "markdown",
   "id": "e86c259b-df08-49c4-b017-49fa04249b67",
   "metadata": {},
   "source": [
    "Question 3:\n",
    "The Fibonacci Sequence is computed based on the following formula:\n",
    "f(n)=0 if n=0\n",
    "f(n)=1 if n=1\n",
    "f(n)=f(n-1)+f(n-2) if n>1\n",
    "Please write a program using list comprehension to print the Fibonacci Sequence in comma separated form with a given n input by console.\n",
    "Example:\n",
    "If the following n is given as input to the program:\n",
    "7\n",
    "\n",
    "Then, the output of the program should be:\n",
    "0,1,1,2,3,5,8,13\n"
   ]
  },
  {
   "cell_type": "code",
   "execution_count": 11,
   "id": "cb785539-b611-434d-8b3b-90ab08333315",
   "metadata": {},
   "outputs": [
    {
     "name": "stdin",
     "output_type": "stream",
     "text": [
      "Enter a number:  7\n"
     ]
    },
    {
     "name": "stdout",
     "output_type": "stream",
     "text": [
      "0,1,1,2,3,5,8,13\n"
     ]
    }
   ],
   "source": [
    "# Input the value of n\n",
    "n = int(input(\"Enter a number: \"))\n",
    "\n",
    "# Generate the Fibonacci sequence using list comprehension\n",
    "fibonacci = [0, 1] + [fibonacci[i-1] + fibonacci[i-2] for i in range(2, n+1)]\n",
    "\n",
    "# Print the Fibonacci sequence in comma-separated form\n",
    "print(','.join(map(str, fibonacci)))\n"
   ]
  },
  {
   "cell_type": "markdown",
   "id": "20fce53a-c739-4323-b00a-222a4e0bdff8",
   "metadata": {},
   "source": [
    "Question 4:\n",
    "Assuming that we have some email addresses in the \"username@companyname.com\" format, please write program to print the user name of a given email address. Both user names and company names are composed of letters only.\n",
    "Example:\n",
    "If the following email address is given as input to the program:\n",
    "john@google.com\n",
    "Then, the output of the program should be:\n",
    "john\n"
   ]
  },
  {
   "cell_type": "code",
   "execution_count": null,
   "id": "a68f1c40-8e66-4507-aa53-c6f3e614c8d4",
   "metadata": {},
   "outputs": [],
   "source": []
  }
 ],
 "metadata": {
  "kernelspec": {
   "display_name": "Python 3 (ipykernel)",
   "language": "python",
   "name": "python3"
  },
  "language_info": {
   "codemirror_mode": {
    "name": "ipython",
    "version": 3
   },
   "file_extension": ".py",
   "mimetype": "text/x-python",
   "name": "python",
   "nbconvert_exporter": "python",
   "pygments_lexer": "ipython3",
   "version": "3.11.7"
  }
 },
 "nbformat": 4,
 "nbformat_minor": 5
}
