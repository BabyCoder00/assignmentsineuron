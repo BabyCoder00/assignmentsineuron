{
 "cells": [
  {
   "cell_type": "markdown",
   "id": "db8ce85b-5cbf-4708-ac70-c863936f6352",
   "metadata": {},
   "source": [
    "1.\tWrite a Python Program to Find the Factorial of a Number?"
   ]
  },
  {
   "cell_type": "code",
   "execution_count": 1,
   "id": "8310c5ab-5fe1-48a2-bd2e-83b8d86d77be",
   "metadata": {},
   "outputs": [
    {
     "name": "stdin",
     "output_type": "stream",
     "text": [
      "Enter a number:  5\n"
     ]
    },
    {
     "name": "stdout",
     "output_type": "stream",
     "text": [
      "Factorial of 5 is 120\n"
     ]
    }
   ],
   "source": [
    "# Function to find the factorial of a number\n",
    "def factorial(n):\n",
    "    if n == 0:\n",
    "        return 1\n",
    "    else:\n",
    "        return n * factorial(n - 1)\n",
    "\n",
    "# Input a number from the user\n",
    "number = int(input(\"Enter a number: \"))\n",
    "\n",
    "# Check if the number is negative\n",
    "if number < 0:\n",
    "    print(\"Factorial is not defined for negative numbers\")\n",
    "elif number == 0:\n",
    "    print(\"Factorial of 0 is 1\")\n",
    "else:\n",
    "    # Calculate and print the factorial of the number\n",
    "    print(\"Factorial of\", number, \"is\", factorial(number))\n"
   ]
  },
  {
   "cell_type": "markdown",
   "id": "cec7a687-fb5c-4f7e-bc73-e40424c3aef8",
   "metadata": {},
   "source": [
    "2.\tWrite a Python Program to Display the multiplication Table?"
   ]
  },
  {
   "cell_type": "code",
   "execution_count": 2,
   "id": "8d3031f7-1505-4308-b015-02b98c693491",
   "metadata": {},
   "outputs": [
    {
     "name": "stdin",
     "output_type": "stream",
     "text": [
      "Enter a number:  2\n"
     ]
    },
    {
     "name": "stdout",
     "output_type": "stream",
     "text": [
      "Multiplication table of 2\n",
      "2 x 1 = 2\n",
      "2 x 2 = 4\n",
      "2 x 3 = 6\n",
      "2 x 4 = 8\n",
      "2 x 5 = 10\n",
      "2 x 6 = 12\n",
      "2 x 7 = 14\n",
      "2 x 8 = 16\n",
      "2 x 9 = 18\n",
      "2 x 10 = 20\n"
     ]
    }
   ],
   "source": [
    "# Input a number from the user\n",
    "number = int(input(\"Enter a number: \"))\n",
    "\n",
    "# Display the multiplication table\n",
    "print(\"Multiplication table of\", number)\n",
    "for i in range(1, 11):\n",
    "    print(number, \"x\", i, \"=\", number * i)\n"
   ]
  },
  {
   "cell_type": "markdown",
   "id": "3189f82c-ed4e-4e79-bf0f-97fd0f9f746e",
   "metadata": {},
   "source": [
    "3.\tWrite a Python Program to Print the Fibonacci sequence?"
   ]
  },
  {
   "cell_type": "code",
   "execution_count": 3,
   "id": "7d6e533d-7e51-4e85-9de4-372641e16fca",
   "metadata": {},
   "outputs": [
    {
     "name": "stdin",
     "output_type": "stream",
     "text": [
      "Enter the number of terms:  6\n"
     ]
    },
    {
     "name": "stdout",
     "output_type": "stream",
     "text": [
      "Fibonacci sequence:\n",
      "[0, 1, 1, 2, 3, 5]\n"
     ]
    }
   ],
   "source": [
    "# Function to generate the Fibonacci sequence\n",
    "def fibonacci(n):\n",
    "    fib_seq = []\n",
    "    a, b = 0, 1\n",
    "    for _ in range(n):\n",
    "        fib_seq.append(a)\n",
    "        a, b = b, a + b\n",
    "    return fib_seq\n",
    "\n",
    "# Input the number of terms from the user\n",
    "terms = int(input(\"Enter the number of terms: \"))\n",
    "\n",
    "# Generate and print the Fibonacci sequence\n",
    "print(\"Fibonacci sequence:\")\n",
    "print(fibonacci(terms))\n"
   ]
  },
  {
   "cell_type": "markdown",
   "id": "39bbc0fb-d344-4bde-bea1-43ab108354ce",
   "metadata": {},
   "source": [
    "4.\tWrite a Python Program to Check Armstrong Number?"
   ]
  },
  {
   "cell_type": "code",
   "execution_count": 4,
   "id": "e7881f3e-3046-407c-aac3-897009d4244f",
   "metadata": {},
   "outputs": [
    {
     "name": "stdin",
     "output_type": "stream",
     "text": [
      "Enter a number:  25\n"
     ]
    },
    {
     "name": "stdout",
     "output_type": "stream",
     "text": [
      "25 is not an Armstrong number\n"
     ]
    }
   ],
   "source": [
    "# Function to check if a number is an Armstrong number\n",
    "def is_armstrong(number):\n",
    "    # Calculate the number of digits in the number\n",
    "    num_digits = len(str(number))\n",
    "    \n",
    "    # Calculate the sum of the digits each raised to the power of num_digits\n",
    "    sum_of_digits = sum(int(digit) ** num_digits for digit in str(number))\n",
    "    \n",
    "    # Check if the number is equal to the sum of its own digits raised to the power of num_digits\n",
    "    return number == sum_of_digits\n",
    "\n",
    "# Input a number from the user\n",
    "number = int(input(\"Enter a number: \"))\n",
    "\n",
    "# Check if the number is an Armstrong number\n",
    "if is_armstrong(number):\n",
    "    print(number, \"is an Armstrong number\")\n",
    "else:\n",
    "    print(number, \"is not an Armstrong number\")\n"
   ]
  },
  {
   "cell_type": "markdown",
   "id": "5ed47aca-0925-4de2-9727-6450b6031d48",
   "metadata": {},
   "source": [
    "5.\tWrite a Python Program to Find Armstrong Number in an Interval?"
   ]
  },
  {
   "cell_type": "code",
   "execution_count": 5,
   "id": "652ab4bc-0b32-4b01-9b17-bb02f0ecf4eb",
   "metadata": {},
   "outputs": [
    {
     "name": "stdin",
     "output_type": "stream",
     "text": [
      "Enter the start of the interval:  2\n",
      "Enter the end of the interval:  10\n"
     ]
    },
    {
     "name": "stdout",
     "output_type": "stream",
     "text": [
      "Armstrong numbers in the interval from 2 to 10 are:\n",
      "2\n",
      "3\n",
      "4\n",
      "5\n",
      "6\n",
      "7\n",
      "8\n",
      "9\n"
     ]
    }
   ],
   "source": [
    "# Function to check if a number is an Armstrong number\n",
    "def is_armstrong(number):\n",
    "    # Calculate the number of digits in the number\n",
    "    num_digits = len(str(number))\n",
    "    \n",
    "    # Calculate the sum of the digits each raised to the power of num_digits\n",
    "    sum_of_digits = sum(int(digit) ** num_digits for digit in str(number))\n",
    "    \n",
    "    # Check if the number is equal to the sum of its own digits raised to the power of num_digits\n",
    "    return number == sum_of_digits\n",
    "\n",
    "# Input the interval from the user\n",
    "start = int(input(\"Enter the start of the interval: \"))\n",
    "end = int(input(\"Enter the end of the interval: \"))\n",
    "\n",
    "# Find and print Armstrong numbers within the interval\n",
    "print(\"Armstrong numbers in the interval from\", start, \"to\", end, \"are:\")\n",
    "for number in range(start, end + 1):\n",
    "    if is_armstrong(number):\n",
    "        print(number)\n"
   ]
  },
  {
   "cell_type": "markdown",
   "id": "332ca90c-0a9d-43c6-b406-1f9a59273f20",
   "metadata": {},
   "source": [
    "6.\tWrite a Python Program to Find the Sum of Natural Numbers?"
   ]
  },
  {
   "cell_type": "code",
   "execution_count": null,
   "id": "95e39725-7043-4e53-bc08-5052e01004ab",
   "metadata": {},
   "outputs": [],
   "source": []
  }
 ],
 "metadata": {
  "kernelspec": {
   "display_name": "Python 3 (ipykernel)",
   "language": "python",
   "name": "python3"
  },
  "language_info": {
   "codemirror_mode": {
    "name": "ipython",
    "version": 3
   },
   "file_extension": ".py",
   "mimetype": "text/x-python",
   "name": "python",
   "nbconvert_exporter": "python",
   "pygments_lexer": "ipython3",
   "version": "3.11.7"
  }
 },
 "nbformat": 4,
 "nbformat_minor": 5
}
