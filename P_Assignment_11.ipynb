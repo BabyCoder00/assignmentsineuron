{
 "cells": [
  {
   "cell_type": "markdown",
   "id": "d3f62e17-6a34-4102-8030-9374d795d457",
   "metadata": {},
   "source": [
    "1.\tWrite a Python program to find words which are greater than given length k?"
   ]
  },
  {
   "cell_type": "code",
   "execution_count": 1,
   "id": "7cf69920-25a7-4f6a-8a59-b3ac35112238",
   "metadata": {},
   "outputs": [
    {
     "name": "stdout",
     "output_type": "stream",
     "text": [
      "Words greater than length 5: ['banana', 'orange', 'watermelon']\n"
     ]
    }
   ],
   "source": [
    "def find_words_greater_than_k(word_list, k):\n",
    "    return [word for word in word_list if len(word) > k]\n",
    "\n",
    "# Example list of words\n",
    "word_list = [\"apple\", \"banana\", \"orange\", \"grape\", \"watermelon\", \"kiwi\"]\n",
    "\n",
    "# Given length\n",
    "k = 5\n",
    "\n",
    "# Find words greater than length k\n",
    "result = find_words_greater_than_k(word_list, k)\n",
    "\n",
    "print(f\"Words greater than length {k}: {result}\")\n"
   ]
  },
  {
   "cell_type": "markdown",
   "id": "26f980d5-014d-4052-9ec0-5ef8d933ef25",
   "metadata": {},
   "source": [
    "2.\tWrite a Python program for removing i-th character from a string?"
   ]
  },
  {
   "cell_type": "code",
   "execution_count": 2,
   "id": "336d216b-8720-4f06-a809-6293cfba874e",
   "metadata": {},
   "outputs": [
    {
     "name": "stdout",
     "output_type": "stream",
     "text": [
      "String after removing 3-th character: exaple\n"
     ]
    }
   ],
   "source": [
    "def remove_ith_character(input_string, i):\n",
    "    return input_string[:i] + input_string[i+1:]\n",
    "\n",
    "# Example string\n",
    "input_string = \"example\"\n",
    "\n",
    "# Index of the character to remove\n",
    "i = 3\n",
    "\n",
    "# Removing i-th character\n",
    "result = remove_ith_character(input_string, i)\n",
    "\n",
    "print(f\"String after removing {i}-th character:\", result)\n"
   ]
  },
  {
   "cell_type": "markdown",
   "id": "07b2f7c6-6959-42ff-b191-e94f6fcd84f8",
   "metadata": {},
   "source": [
    "3.\tWrite a Python program to split and join a string?"
   ]
  },
  {
   "cell_type": "code",
   "execution_count": 3,
   "id": "ca3254f9-8225-4a57-8e13-8f36efaa4511",
   "metadata": {},
   "outputs": [
    {
     "name": "stdout",
     "output_type": "stream",
     "text": [
      "Original string: Hello world! This is a sample string.\n",
      "Split words: ['Hello', 'world!', 'This', 'is', 'a', 'sample', 'string.']\n",
      "Joined string: Hello world! This is a sample string.\n"
     ]
    }
   ],
   "source": [
    "def split_and_join(input_string):\n",
    "    # Split the string into a list of words\n",
    "    words = input_string.split()\n",
    "\n",
    "    # Join the words using a space as a separator\n",
    "    joined_string = \" \".join(words)\n",
    "\n",
    "    return words, joined_string\n",
    "\n",
    "# Example string\n",
    "input_string = \"Hello world! This is a sample string.\"\n",
    "\n",
    "# Splitting and joining the string\n",
    "split_words, joined_string = split_and_join(input_string)\n",
    "\n",
    "print(\"Original string:\", input_string)\n",
    "print(\"Split words:\", split_words)\n",
    "print(\"Joined string:\", joined_string)\n"
   ]
  },
  {
   "cell_type": "markdown",
   "id": "309b28cc-dd29-40fe-ab5c-176a25ea932f",
   "metadata": {},
   "source": [
    "4.\tWrite a Python to check if a given string is binary string or not?"
   ]
  },
  {
   "cell_type": "code",
   "execution_count": 4,
   "id": "acfaca0d-df40-43ac-aab0-3943732d1d34",
   "metadata": {},
   "outputs": [
    {
     "name": "stdout",
     "output_type": "stream",
     "text": [
      "The string is a binary string.\n"
     ]
    }
   ],
   "source": [
    "def is_binary_string(input_string):\n",
    "    # Iterate through each character in the string\n",
    "    for char in input_string:\n",
    "        # Check if the character is not '0' or '1'\n",
    "        if char != '0' and char != '1':\n",
    "            return False\n",
    "    # If all characters are '0' or '1', return True\n",
    "    return True\n",
    "\n",
    "# Example string\n",
    "input_string = \"101010101\"\n",
    "\n",
    "# Check if the string is a binary string\n",
    "if is_binary_string(input_string):\n",
    "    print(\"The string is a binary string.\")\n",
    "else:\n",
    "    print(\"The string is not a binary string.\")\n"
   ]
  },
  {
   "cell_type": "markdown",
   "id": "28b4db99-4f38-4bc9-b8d8-f92d9158e748",
   "metadata": {},
   "source": [
    "5.\tWrite a Python program to find uncommon words from two Strings?"
   ]
  },
  {
   "cell_type": "code",
   "execution_count": 5,
   "id": "17b949b3-ef4c-47a3-899f-5a40705ee037",
   "metadata": {},
   "outputs": [
    {
     "name": "stdout",
     "output_type": "stream",
     "text": [
      "Uncommon words: {'apple', 'orange'}\n"
     ]
    }
   ],
   "source": [
    "def find_uncommon_words(string1, string2):\n",
    "    # Split the strings into words\n",
    "    words1 = string1.split()\n",
    "    words2 = string2.split()\n",
    "\n",
    "    # Convert the lists of words into sets for efficient comparison\n",
    "    set1 = set(words1)\n",
    "    set2 = set(words2)\n",
    "\n",
    "    # Find the uncommon words by taking the symmetric difference of the sets\n",
    "    uncommon_words = set1.symmetric_difference(set2)\n",
    "\n",
    "    return uncommon_words\n",
    "\n",
    "# Example strings\n",
    "string1 = \"apple banana mango\"\n",
    "string2 = \"banana mango orange\"\n",
    "\n",
    "# Find uncommon words\n",
    "result = find_uncommon_words(string1, string2)\n",
    "\n",
    "print(\"Uncommon words:\", result)\n"
   ]
  },
  {
   "cell_type": "markdown",
   "id": "e6763490-6ee4-48e8-9381-e548b8abeb1b",
   "metadata": {},
   "source": [
    "6.\tWrite a Python to find all duplicate characters in string?"
   ]
  },
  {
   "cell_type": "code",
   "execution_count": 6,
   "id": "4b7dd3be-98db-4a7f-9380-1e3bf71e6e9d",
   "metadata": {},
   "outputs": [
    {
     "name": "stdout",
     "output_type": "stream",
     "text": [
      "Duplicate characters: ['l', 'o']\n"
     ]
    }
   ],
   "source": [
    "def find_duplicate_characters(input_string):\n",
    "    # Initialize an empty dictionary to store character counts\n",
    "    char_count = {}\n",
    "\n",
    "    # Iterate through each character in the string\n",
    "    for char in input_string:\n",
    "        # Increment the count of the character in the dictionary\n",
    "        char_count[char] = char_count.get(char, 0) + 1\n",
    "\n",
    "    # Find characters with counts greater than 1 (duplicates)\n",
    "    duplicates = [char for char, count in char_count.items() if count > 1]\n",
    "\n",
    "    return duplicates\n",
    "\n",
    "# Example string\n",
    "input_string = \"hello world\"\n",
    "\n",
    "# Find duplicate characters\n",
    "result = find_duplicate_characters(input_string)\n",
    "\n",
    "print(\"Duplicate characters:\", result)\n"
   ]
  },
  {
   "cell_type": "markdown",
   "id": "4076c5ea-4073-4501-a975-14ab38e8578e",
   "metadata": {},
   "source": [
    "7.\tWrite a Python Program to check if a string contains any special character?"
   ]
  },
  {
   "cell_type": "code",
   "execution_count": null,
   "id": "e466e39f-056f-4dab-8b35-1a2c67f97ca2",
   "metadata": {},
   "outputs": [],
   "source": []
  }
 ],
 "metadata": {
  "kernelspec": {
   "display_name": "Python 3 (ipykernel)",
   "language": "python",
   "name": "python3"
  },
  "language_info": {
   "codemirror_mode": {
    "name": "ipython",
    "version": 3
   },
   "file_extension": ".py",
   "mimetype": "text/x-python",
   "name": "python",
   "nbconvert_exporter": "python",
   "pygments_lexer": "ipython3",
   "version": "3.11.7"
  }
 },
 "nbformat": 4,
 "nbformat_minor": 5
}
