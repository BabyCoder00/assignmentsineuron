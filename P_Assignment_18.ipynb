{
 "cells": [
  {
   "cell_type": "markdown",
   "id": "f4f97e9e-48b8-4baa-aa08-3949cebe9293",
   "metadata": {},
   "source": [
    "Question 1\n",
    "Create a function that takes a list of non-negative integers and strings and return a new list without the strings.\n",
    "Examples\n",
    "filter_list([1, 2, \"a\", \"b\"]) ➞ [1, 2]\n",
    "\n",
    "filter_list([1, \"a\", \"b\", 0, 15]) ➞ [1, 0, 15]\n",
    "\n",
    "filter_list([1, 2, \"aasf\", \"1\", \"123\", 123]) ➞ [1, 2, 123]\n"
   ]
  },
  {
   "cell_type": "code",
   "execution_count": 1,
   "id": "dbb8ab52-b006-42eb-bf9e-81c1de66b5d8",
   "metadata": {},
   "outputs": [
    {
     "name": "stdout",
     "output_type": "stream",
     "text": [
      "[1, 2]\n",
      "[1, 0, 15]\n",
      "[1, 2, 123]\n"
     ]
    }
   ],
   "source": [
    "def filter_list(lst):\n",
    "    # Initialize an empty list to store non-string elements\n",
    "    result = []\n",
    "    # Iterate over each element in the list\n",
    "    for element in lst:\n",
    "        # Check if the element is a non-negative integer\n",
    "        if isinstance(element, int):\n",
    "            # If it is, append it to the result list\n",
    "            result.append(element)\n",
    "    return result\n",
    "\n",
    "# Test cases\n",
    "print(filter_list([1, 2, \"a\", \"b\"]))              # Output: [1, 2]\n",
    "print(filter_list([1, \"a\", \"b\", 0, 15]))          # Output: [1, 0, 15]\n",
    "print(filter_list([1, 2, \"aasf\", \"1\", \"123\", 123])) # Output: [1, 2, 123]\n"
   ]
  },
  {
   "cell_type": "markdown",
   "id": "aadbcfdd-e260-44ff-83da-576dff191ba4",
   "metadata": {},
   "source": [
    "Question 2\n",
    "The \"Reverser\" takes a string as input and returns that string in reverse order, with the opposite case.\n",
    "Examples\n",
    "reverse(\"Hello World\") ➞ \"DLROw OLLEh\"\n",
    "\n",
    "reverse(\"ReVeRsE\") ➞ \"eSrEvEr\"\n",
    "\n",
    "reverse(\"Radar\") ➞ \"RADAr\"\n"
   ]
  },
  {
   "cell_type": "code",
   "execution_count": 2,
   "id": "7205a4eb-a83f-4e06-a296-58b3ec8a9005",
   "metadata": {},
   "outputs": [
    {
     "name": "stdout",
     "output_type": "stream",
     "text": [
      "DLROw OLLEh\n",
      "eSrEvEr\n",
      "RADAr\n"
     ]
    }
   ],
   "source": [
    "def reverse(string):\n",
    "    # Initialize an empty string to store the reversed and opposite case string\n",
    "    reversed_string = \"\"\n",
    "    # Iterate over each character in the input string\n",
    "    for char in string:\n",
    "        # If the character is uppercase, convert it to lowercase; if it's lowercase, convert it to uppercase\n",
    "        if char.isupper():\n",
    "            reversed_string += char.lower()\n",
    "        else:\n",
    "            reversed_string += char.upper()\n",
    "    # Reverse the string and return it\n",
    "    return reversed_string[::-1]\n",
    "\n",
    "# Test cases\n",
    "print(reverse(\"Hello World\"))  # Output: \"DLROw OLLEh\"\n",
    "print(reverse(\"ReVeRsE\"))      # Output: \"eSrEvEr\"\n",
    "print(reverse(\"Radar\"))         # Output: \"RADAr\"\n"
   ]
  },
  {
   "cell_type": "markdown",
   "id": "5f5a7cf8-1af1-4d76-9b5d-14c9dbf9add7",
   "metadata": {},
   "source": [
    "Question 3\r\n",
    "You can assign variables from lists like this:\r\n",
    "lst = [1, 2, 3, 4, 5, 6]\r\n",
    "first = lst[0]\r\n",
    "middle = lst[1:-1]\r\n",
    "last = lst[-1]\r\n",
    "\r\n",
    "print(first) ➞ outputs 1\r\n",
    "print(middle) ➞ outputs [2, 3, 4, 5]\r\n",
    "print(last) ➞ outputs 6\r\n",
    "With Python 3, you can assign variables from lists in a much more succinct way. Create variables first, middle and last from the given list using destructuring assignment (check the Resources tab for some examples), where:\r\n",
    "first  ➞ 1\r\n",
    "\r\n",
    "middle ➞ [2, 3, 4, 5]\r\n",
    "\r\n",
    "last ➞ 6\r\n",
    "Your task is to unpack the list writeyourcodehere into three variables, being first, middle, and last, with middle being everything in between the first and last element. Then print all three variables.\r\n"
   ]
  },
  {
   "cell_type": "code",
   "execution_count": 4,
   "id": "c58b0d63-1d2e-4891-8b67-f9d2e241f7fb",
   "metadata": {},
   "outputs": [
    {
     "name": "stdout",
     "output_type": "stream",
     "text": [
      "1\n",
      "[2, 3, 4, 5]\n",
      "6\n"
     ]
    }
   ],
   "source": [
    "# Given list\n",
    "lst = [1, 2, 3, 4, 5, 6]\n",
    "\n",
    "# Unpack the list into variables first, *middle, and last\n",
    "first, *middle, last = lst\n",
    "\n",
    "# Print the variables\n",
    "print(first)   # Outputs: 1\n",
    "print(middle)  # Outputs: [2, 3, 4, 5]\n",
    "print(last)    # Outputs: 6\n"
   ]
  },
  {
   "cell_type": "markdown",
   "id": "0aa18b7a-19f0-44b5-b93a-5535687ba5e9",
   "metadata": {},
   "source": [
    "Question 4\n",
    "Write a function that calculates the factorial of a number recursively.\n",
    "Examples\n",
    "factorial(5) ➞ 120\n",
    "\n",
    "factorial(3) ➞ 6\n",
    "\n",
    "factorial(1) ➞ 1\n",
    "\n",
    "factorial(0) ➞ 1\n"
   ]
  },
  {
   "cell_type": "code",
   "execution_count": 5,
   "id": "c05e6534-61dc-4e97-8f96-f2e13fea011d",
   "metadata": {},
   "outputs": [
    {
     "name": "stdout",
     "output_type": "stream",
     "text": [
      "120\n",
      "6\n",
      "1\n",
      "1\n"
     ]
    }
   ],
   "source": [
    "def factorial(n):\n",
    "    # Base case: factorial of 0 or 1 is 1\n",
    "    if n == 0 or n == 1:\n",
    "        return 1\n",
    "    # Recursive case: factorial of n is n multiplied by factorial of (n-1)\n",
    "    else:\n",
    "        return n * factorial(n - 1)\n",
    "\n",
    "# Test cases\n",
    "print(factorial(5))  # Output: 120\n",
    "print(factorial(3))  # Output: 6\n",
    "print(factorial(1))  # Output: 1\n",
    "print(factorial(0))  # Output: 1\n"
   ]
  },
  {
   "cell_type": "code",
   "execution_count": null,
   "id": "2e471139-7cd8-4be3-b05e-c2f4f176628d",
   "metadata": {},
   "outputs": [],
   "source": []
  }
 ],
 "metadata": {
  "kernelspec": {
   "display_name": "Python 3 (ipykernel)",
   "language": "python",
   "name": "python3"
  },
  "language_info": {
   "codemirror_mode": {
    "name": "ipython",
    "version": 3
   },
   "file_extension": ".py",
   "mimetype": "text/x-python",
   "name": "python",
   "nbconvert_exporter": "python",
   "pygments_lexer": "ipython3",
   "version": "3.11.7"
  }
 },
 "nbformat": 4,
 "nbformat_minor": 5
}
