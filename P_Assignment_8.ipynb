{
 "cells": [
  {
   "cell_type": "markdown",
   "id": "6d785bf4-04dd-4d9b-b6ef-4d2284bc6ef2",
   "metadata": {},
   "source": [
    "1.\tWrite a Python Program to Add Two Matrices?"
   ]
  },
  {
   "cell_type": "code",
   "execution_count": 1,
   "id": "016fb7f0-76f2-4026-b08c-70ee723099f1",
   "metadata": {},
   "outputs": [
    {
     "name": "stdin",
     "output_type": "stream",
     "text": [
      "Enter the number of rows for the matrices:  2\n",
      "Enter the number of columns for the matrices:  2\n"
     ]
    },
    {
     "name": "stdout",
     "output_type": "stream",
     "text": [
      "Enter the elements of the first matrix:\n"
     ]
    },
    {
     "name": "stdin",
     "output_type": "stream",
     "text": [
      "Enter element (1,1):  1\n",
      "Enter element (1,2):  1\n",
      "Enter element (2,1):  1\n",
      "Enter element (2,2):  1\n"
     ]
    },
    {
     "name": "stdout",
     "output_type": "stream",
     "text": [
      "Enter the elements of the second matrix:\n"
     ]
    },
    {
     "name": "stdin",
     "output_type": "stream",
     "text": [
      "Enter element (1,1):  1\n",
      "Enter element (1,2):  1\n",
      "Enter element (2,1):  1\n",
      "Enter element (2,2):  1\n"
     ]
    },
    {
     "name": "stdout",
     "output_type": "stream",
     "text": [
      "The sum of the two matrices is:\n",
      "[2, 2]\n",
      "[2, 2]\n"
     ]
    }
   ],
   "source": [
    "# Function to add two matrices\n",
    "def add_matrices(matrix1, matrix2):\n",
    "    # Check if the dimensions of the matrices are the same\n",
    "    if len(matrix1) != len(matrix2) or len(matrix1[0]) != len(matrix2[0]):\n",
    "        return \"Matrices must have the same dimensions to be added.\"\n",
    "\n",
    "    # Initialize an empty matrix to store the result\n",
    "    result = []\n",
    "\n",
    "    # Iterate through the rows of the matrices\n",
    "    for i in range(len(matrix1)):\n",
    "        # Initialize an empty row to store the sum of corresponding elements\n",
    "        row = []\n",
    "        # Iterate through the columns of the matrices\n",
    "        for j in range(len(matrix1[0])):\n",
    "            # Add the corresponding elements from both matrices and append to the row\n",
    "            row.append(matrix1[i][j] + matrix2[i][j])\n",
    "        # Append the row to the result matrix\n",
    "        result.append(row)\n",
    "\n",
    "    return result\n",
    "\n",
    "# Input the dimensions of the matrices from the user\n",
    "rows = int(input(\"Enter the number of rows for the matrices: \"))\n",
    "cols = int(input(\"Enter the number of columns for the matrices: \"))\n",
    "\n",
    "# Input the elements of the first matrix from the user\n",
    "print(\"Enter the elements of the first matrix:\")\n",
    "matrix1 = [[int(input(f\"Enter element ({i+1},{j+1}): \")) for j in range(cols)] for i in range(rows)]\n",
    "\n",
    "# Input the elements of the second matrix from the user\n",
    "print(\"Enter the elements of the second matrix:\")\n",
    "matrix2 = [[int(input(f\"Enter element ({i+1},{j+1}): \")) for j in range(cols)] for i in range(rows)]\n",
    "\n",
    "# Add the two matrices and print the result\n",
    "result = add_matrices(matrix1, matrix2)\n",
    "if isinstance(result, str):\n",
    "    print(result)\n",
    "else:\n",
    "    print(\"The sum of the two matrices is:\")\n",
    "    for row in result:\n",
    "        print(row)\n"
   ]
  },
  {
   "cell_type": "markdown",
   "id": "f3c59904-6628-41a4-b1a9-b9c3b52994dd",
   "metadata": {},
   "source": [
    "2.\tWrite a Python Program to Multiply Two Matrices?"
   ]
  },
  {
   "cell_type": "code",
   "execution_count": 2,
   "id": "81a5a9cf-f9ed-45f2-a269-256888faf59c",
   "metadata": {},
   "outputs": [
    {
     "name": "stdin",
     "output_type": "stream",
     "text": [
      "Enter the number of rows for the first matrix:  2\n",
      "Enter the number of columns for the first matrix:  2\n",
      "Enter the number of rows for the second matrix:  2\n",
      "Enter the number of columns for the second matrix:  2\n"
     ]
    },
    {
     "name": "stdout",
     "output_type": "stream",
     "text": [
      "Enter the elements of the first matrix:\n"
     ]
    },
    {
     "name": "stdin",
     "output_type": "stream",
     "text": [
      "Enter element (1,1):  1\n",
      "Enter element (1,2):  1\n",
      "Enter element (2,1):  1\n",
      "Enter element (2,2):  1\n"
     ]
    },
    {
     "name": "stdout",
     "output_type": "stream",
     "text": [
      "Enter the elements of the second matrix:\n"
     ]
    },
    {
     "name": "stdin",
     "output_type": "stream",
     "text": [
      "Enter element (1,1):  1\n",
      "Enter element (1,2):  1\n",
      "Enter element (2,1):  1\n",
      "Enter element (2,2):  1\n"
     ]
    },
    {
     "name": "stdout",
     "output_type": "stream",
     "text": [
      "The product of the two matrices is:\n",
      "[2, 2]\n",
      "[2, 2]\n"
     ]
    }
   ],
   "source": [
    "# Function to multiply two matrices\n",
    "def multiply_matrices(matrix1, matrix2):\n",
    "    # Check if the number of columns in the first matrix is equal to the number of rows in the second matrix\n",
    "    if len(matrix1[0]) != len(matrix2):\n",
    "        return \"Number of columns in the first matrix must be equal to the number of rows in the second matrix.\"\n",
    "\n",
    "    # Initialize an empty matrix to store the result\n",
    "    result = []\n",
    "\n",
    "    # Iterate through the rows of the first matrix\n",
    "    for i in range(len(matrix1)):\n",
    "        # Initialize an empty row to store the elements of the result row\n",
    "        row = []\n",
    "        # Iterate through the columns of the second matrix\n",
    "        for j in range(len(matrix2[0])):\n",
    "            # Initialize the element of the result row to 0\n",
    "            element = 0\n",
    "            # Iterate through the columns of the first matrix or the rows of the second matrix\n",
    "            for k in range(len(matrix1[0])):\n",
    "                # Multiply the corresponding elements from the first and second matrices and add to the element\n",
    "                element += matrix1[i][k] * matrix2[k][j]\n",
    "            # Append the element to the row\n",
    "            row.append(element)\n",
    "        # Append the row to the result matrix\n",
    "        result.append(row)\n",
    "\n",
    "    return result\n",
    "\n",
    "# Input the dimensions of the first matrix from the user\n",
    "rows1 = int(input(\"Enter the number of rows for the first matrix: \"))\n",
    "cols1 = int(input(\"Enter the number of columns for the first matrix: \"))\n",
    "\n",
    "# Input the dimensions of the second matrix from the user\n",
    "rows2 = int(input(\"Enter the number of rows for the second matrix: \"))\n",
    "cols2 = int(input(\"Enter the number of columns for the second matrix: \"))\n",
    "\n",
    "# Check if the number of columns in the first matrix is equal to the number of rows in the second matrix\n",
    "if cols1 != rows2:\n",
    "    print(\"Number of columns in the first matrix must be equal to the number of rows in the second matrix.\")\n",
    "else:\n",
    "    # Input the elements of the first matrix from the user\n",
    "    print(\"Enter the elements of the first matrix:\")\n",
    "    matrix1 = [[int(input(f\"Enter element ({i+1},{j+1}): \")) for j in range(cols1)] for i in range(rows1)]\n",
    "\n",
    "    # Input the elements of the second matrix from the user\n",
    "    print(\"Enter the elements of the second matrix:\")\n",
    "    matrix2 = [[int(input(f\"Enter element ({i+1},{j+1}): \")) for j in range(cols2)] for i in range(rows2)]\n",
    "\n",
    "    # Multiply the two matrices and print the result\n",
    "    result = multiply_matrices(matrix1, matrix2)\n",
    "    if isinstance(result, str):\n",
    "        print(result)\n",
    "    else:\n",
    "        print(\"The product of the two matrices is:\")\n",
    "        for row in result:\n",
    "            print(row)\n"
   ]
  },
  {
   "cell_type": "markdown",
   "id": "137d970f-321c-48b1-a2c5-414c32ca1a2b",
   "metadata": {},
   "source": [
    "3.\tWrite a Python Program to Transpose a Matrix?"
   ]
  },
  {
   "cell_type": "code",
   "execution_count": 3,
   "id": "4c18b5bf-6baf-4d15-b628-aa969ab40191",
   "metadata": {},
   "outputs": [
    {
     "name": "stdin",
     "output_type": "stream",
     "text": [
      "Enter the number of rows for the matrix:  2\n",
      "Enter the number of columns for the matrix:  2\n"
     ]
    },
    {
     "name": "stdout",
     "output_type": "stream",
     "text": [
      "Enter the elements of the matrix:\n"
     ]
    },
    {
     "name": "stdin",
     "output_type": "stream",
     "text": [
      "Enter element (1,1):  1\n",
      "Enter element (1,2):  1\n",
      "Enter element (2,1):  1\n",
      "Enter element (2,2):  1\n"
     ]
    },
    {
     "name": "stdout",
     "output_type": "stream",
     "text": [
      "The transposed matrix is:\n",
      "[1, 1]\n",
      "[1, 1]\n"
     ]
    }
   ],
   "source": [
    "# Function to transpose a matrix\n",
    "def transpose_matrix(matrix):\n",
    "    # Calculate the number of rows and columns in the original matrix\n",
    "    rows = len(matrix)\n",
    "    cols = len(matrix[0])\n",
    "\n",
    "    # Create an empty matrix to store the transposed matrix\n",
    "    transposed_matrix = []\n",
    "\n",
    "    # Iterate through the columns of the original matrix\n",
    "    for j in range(cols):\n",
    "        # Create an empty row to store the elements of the transposed row\n",
    "        row = []\n",
    "        # Iterate through the rows of the original matrix\n",
    "        for i in range(rows):\n",
    "            # Append the element at position (i, j) in the original matrix to the row\n",
    "            row.append(matrix[i][j])\n",
    "        # Append the row to the transposed matrix\n",
    "        transposed_matrix.append(row)\n",
    "\n",
    "    return transposed_matrix\n",
    "\n",
    "# Input the dimensions of the matrix from the user\n",
    "rows = int(input(\"Enter the number of rows for the matrix: \"))\n",
    "cols = int(input(\"Enter the number of columns for the matrix: \"))\n",
    "\n",
    "# Input the elements of the matrix from the user\n",
    "print(\"Enter the elements of the matrix:\")\n",
    "matrix = [[int(input(f\"Enter element ({i+1},{j+1}): \")) for j in range(cols)] for i in range(rows)]\n",
    "\n",
    "# Transpose the matrix and print the result\n",
    "transposed_matrix = transpose_matrix(matrix)\n",
    "print(\"The transposed matrix is:\")\n",
    "for row in transposed_matrix:\n",
    "    print(row)\n"
   ]
  },
  {
   "cell_type": "markdown",
   "id": "df0365c4-72ec-473a-aa53-a4b7b0246640",
   "metadata": {},
   "source": [
    "4.\tWrite a Python Program to Sort Words in Alphabetic Order?"
   ]
  },
  {
   "cell_type": "code",
   "execution_count": 5,
   "id": "f4974c87-4dc5-4dde-bfaf-6d586fd3ee5e",
   "metadata": {},
   "outputs": [
    {
     "name": "stdin",
     "output_type": "stream",
     "text": [
      "Enter a string of words:  arya21arya\n"
     ]
    },
    {
     "name": "stdout",
     "output_type": "stream",
     "text": [
      "The words sorted in alphabetical order are: arya21arya\n"
     ]
    }
   ],
   "source": [
    "# Function to sort words in alphabetical order\n",
    "def sort_words(words):\n",
    "    # Split the input string into individual words\n",
    "    word_list = words.split()\n",
    "\n",
    "    # Sort the list of words in alphabetical order\n",
    "    sorted_words = sorted(word_list)\n",
    "\n",
    "    # Join the sorted words back into a single string\n",
    "    sorted_string = ' '.join(sorted_words)\n",
    "\n",
    "    return sorted_string\n",
    "\n",
    "# Input the string of words from the user\n",
    "words = input(\"Enter a string of words: \")\n",
    "\n",
    "# Sort the words in alphabetical order and print the result\n",
    "sorted_string = sort_words(words)\n",
    "print(\"The words sorted in alphabetical order are:\", sorted_string)\n"
   ]
  },
  {
   "cell_type": "code",
   "execution_count": null,
   "id": "a4e243d9-ab34-4981-9ea5-757e6d73cc70",
   "metadata": {},
   "outputs": [],
   "source": []
  }
 ],
 "metadata": {
  "kernelspec": {
   "display_name": "Python 3 (ipykernel)",
   "language": "python",
   "name": "python3"
  },
  "language_info": {
   "codemirror_mode": {
    "name": "ipython",
    "version": 3
   },
   "file_extension": ".py",
   "mimetype": "text/x-python",
   "name": "python",
   "nbconvert_exporter": "python",
   "pygments_lexer": "ipython3",
   "version": "3.11.7"
  }
 },
 "nbformat": 4,
 "nbformat_minor": 5
}
