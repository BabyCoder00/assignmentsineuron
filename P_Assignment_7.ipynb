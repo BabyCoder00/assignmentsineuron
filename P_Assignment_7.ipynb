{
 "cells": [
  {
   "cell_type": "markdown",
   "id": "268381d8-395f-4626-848c-7b7a1b373fc5",
   "metadata": {},
   "source": [
    "1.\tWrite a Python Program to find sum of array?"
   ]
  },
  {
   "cell_type": "code",
   "execution_count": 1,
   "id": "62358b45-63ac-44b1-af3d-f40533543f82",
   "metadata": {},
   "outputs": [
    {
     "name": "stdin",
     "output_type": "stream",
     "text": [
      "Enter the elements of the array separated by space:  1 2 3 4 5\n"
     ]
    },
    {
     "name": "stdout",
     "output_type": "stream",
     "text": [
      "The sum of elements in the array is: 15\n"
     ]
    }
   ],
   "source": [
    "# Function to find the sum of elements in an array\n",
    "def array_sum(arr):\n",
    "    return sum(arr)\n",
    "\n",
    "# Input the array from the user\n",
    "arr = list(map(int, input(\"Enter the elements of the array separated by space: \").split()))\n",
    "\n",
    "# Calculate the sum of elements in the array\n",
    "result = array_sum(arr)\n",
    "\n",
    "# Print the sum of elements\n",
    "print(\"The sum of elements in the array is:\", result)\n"
   ]
  },
  {
   "cell_type": "markdown",
   "id": "fff5d307-8769-411b-87ad-35066c2d6cfc",
   "metadata": {},
   "source": [
    "2.\tWrite a Python Program to find largest element in an array?"
   ]
  },
  {
   "cell_type": "markdown",
   "id": "50c372f9-0d88-4223-a9c6-8aaf0267b893",
   "metadata": {},
   "source": [
    "2.\tWrite a Python Program to find largest element in an array?"
   ]
  },
  {
   "cell_type": "code",
   "execution_count": 2,
   "id": "0a99ec2b-f20c-43ae-bf1c-6bd04c431dc1",
   "metadata": {},
   "outputs": [
    {
     "name": "stdin",
     "output_type": "stream",
     "text": [
      "Enter the elements of the array separated by space:  1 2 3 4 5\n"
     ]
    },
    {
     "name": "stdout",
     "output_type": "stream",
     "text": [
      "The largest element in the array is: 5\n"
     ]
    }
   ],
   "source": [
    "# Function to find the largest element in an array\n",
    "def find_largest(arr):\n",
    "    if len(arr) == 0:\n",
    "        return \"Array is empty\"\n",
    "    else:\n",
    "        return max(arr)\n",
    "\n",
    "# Input the array from the user\n",
    "arr = list(map(int, input(\"Enter the elements of the array separated by space: \").split()))\n",
    "\n",
    "# Find the largest element in the array\n",
    "largest = find_largest(arr)\n",
    "\n",
    "# Print the largest element\n",
    "print(\"The largest element in the array is:\", largest)\n"
   ]
  },
  {
   "cell_type": "markdown",
   "id": "5bc7741d-f359-4d23-8b61-2ba289ed0130",
   "metadata": {},
   "source": [
    "3.\tWrite a Python Program for array rotation?"
   ]
  },
  {
   "cell_type": "code",
   "execution_count": 3,
   "id": "5bd39e12-330c-4c63-b5a5-d1bd0f7884ab",
   "metadata": {},
   "outputs": [
    {
     "name": "stdin",
     "output_type": "stream",
     "text": [
      "Enter the elements of the array separated by space:  1 2 3 4 5\n",
      "Enter the number of positions to rotate:  1\n"
     ]
    },
    {
     "name": "stdout",
     "output_type": "stream",
     "text": [
      "Array after left rotation by 1 positions: [2, 3, 4, 5, 1]\n",
      "Array after right rotation by 1 positions: [5, 1, 2, 3, 4]\n"
     ]
    }
   ],
   "source": [
    "# Function to rotate an array to the left by d positions\n",
    "def rotate_left(arr, d):\n",
    "    n = len(arr)\n",
    "    d = d % n  # Handle cases where d is greater than n\n",
    "    return arr[d:] + arr[:d]\n",
    "\n",
    "# Function to rotate an array to the right by d positions\n",
    "def rotate_right(arr, d):\n",
    "    n = len(arr)\n",
    "    d = d % n  # Handle cases where d is greater than n\n",
    "    return arr[-d:] + arr[:-d]\n",
    "\n",
    "# Input the array and rotation count from the user\n",
    "arr = list(map(int, input(\"Enter the elements of the array separated by space: \").split()))\n",
    "d = int(input(\"Enter the number of positions to rotate: \"))\n",
    "\n",
    "# Perform array rotation to the left and print the result\n",
    "left_rotated = rotate_left(arr, d)\n",
    "print(\"Array after left rotation by\", d, \"positions:\", left_rotated)\n",
    "\n",
    "# Perform array rotation to the right and print the result\n",
    "right_rotated = rotate_right(arr, d)\n",
    "print(\"Array after right rotation by\", d, \"positions:\", right_rotated)\n"
   ]
  },
  {
   "cell_type": "markdown",
   "id": "b9936ddd-b1e2-4f4d-8c4c-6027ea51b49a",
   "metadata": {},
   "source": [
    "4.\tWrite a Python Program to Split the array and add the first part to the end?"
   ]
  },
  {
   "cell_type": "code",
   "execution_count": 4,
   "id": "7c848cb5-d5ee-4053-85f4-c7e4776408e8",
   "metadata": {},
   "outputs": [
    {
     "name": "stdin",
     "output_type": "stream",
     "text": [
      "Enter the elements of the array separated by space:  1 2 3 4 5\n",
      "Enter the position to split the array:  1\n"
     ]
    },
    {
     "name": "stdout",
     "output_type": "stream",
     "text": [
      "Array after splitting at position 1 and adding the first part to the end: [2, 3, 4, 5, 1]\n"
     ]
    }
   ],
   "source": [
    "# Function to split the array and add the first part to the end\n",
    "def split_and_add(arr, k):\n",
    "    n = len(arr)\n",
    "    k = k % n  # Handle cases where k is greater than n\n",
    "    return arr[k:] + arr[:k]\n",
    "\n",
    "# Input the array and the position to split from the user\n",
    "arr = list(map(int, input(\"Enter the elements of the array separated by space: \").split()))\n",
    "k = int(input(\"Enter the position to split the array: \"))\n",
    "\n",
    "# Perform split and add operation and print the result\n",
    "result = split_and_add(arr, k)\n",
    "print(\"Array after splitting at position\", k, \"and adding the first part to the end:\", result)\n"
   ]
  },
  {
   "cell_type": "markdown",
   "id": "2b2dc4e1-99c7-4cdc-a854-1e955db7cbef",
   "metadata": {},
   "source": [
    "5.\tWrite a Python Program to check if given array is Monotonic?"
   ]
  },
  {
   "cell_type": "code",
   "execution_count": null,
   "id": "2e468bb8-b3b8-4850-a27d-ba6f805dc736",
   "metadata": {},
   "outputs": [],
   "source": []
  }
 ],
 "metadata": {
  "kernelspec": {
   "display_name": "Python 3 (ipykernel)",
   "language": "python",
   "name": "python3"
  },
  "language_info": {
   "codemirror_mode": {
    "name": "ipython",
    "version": 3
   },
   "file_extension": ".py",
   "mimetype": "text/x-python",
   "name": "python",
   "nbconvert_exporter": "python",
   "pygments_lexer": "ipython3",
   "version": "3.11.7"
  }
 },
 "nbformat": 4,
 "nbformat_minor": 5
}
