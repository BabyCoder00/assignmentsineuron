{
 "cells": [
  {
   "cell_type": "markdown",
   "id": "10eb0136-2a3c-4c67-9678-b1b1679134a0",
   "metadata": {},
   "source": [
    "Question 1:\n",
    "\n",
    "Write a program that calculates and prints the value according to the given formula:\n",
    "\n",
    "Q = Square root of [(2 * C * D)/H]\n",
    "\n",
    "Following are the fixed values of C and H:\n",
    "\n",
    "C is 50. H is 30.\n",
    "\n",
    "D is the variable whose values should be input to your program in a comma-separated sequence.\n",
    "\n",
    "Example\n",
    "\n",
    "Let us assume the following comma separated input sequence is given to the program:\n",
    "\n",
    "100,150,180\n",
    "\n",
    "The output of the program should be:\n",
    "\n",
    "18,22,24\n"
   ]
  },
  {
   "cell_type": "code",
   "execution_count": 1,
   "id": "cdb726a7-5a08-4c35-bd14-e8147cabd0ab",
   "metadata": {},
   "outputs": [
    {
     "name": "stdout",
     "output_type": "stream",
     "text": [
      "Output: 18,22,24\n"
     ]
    }
   ],
   "source": [
    "import math\n",
    "\n",
    "def calculate_Q(D):\n",
    "    C = 50\n",
    "    H = 30\n",
    "    # Split the input string by comma and convert each value to an integer\n",
    "    D_values = [int(d) for d in D.split(',')]\n",
    "    # Calculate Q for each value of D and round the result to the nearest integer\n",
    "    result = [round(math.sqrt((2 * C * d) / H)) for d in D_values]\n",
    "    # Join the result list elements into a comma-separated string\n",
    "    return ','.join(map(str, result))\n",
    "\n",
    "# Example input\n",
    "input_sequence = \"100,150,180\"\n",
    "\n",
    "# Calculate Q values\n",
    "output = calculate_Q(input_sequence)\n",
    "\n",
    "print(\"Output:\", output)\n"
   ]
  },
  {
   "cell_type": "markdown",
   "id": "b6120119-0e4c-4603-9f2e-1a7ca9162107",
   "metadata": {},
   "source": [
    "Question 2:\n",
    "Write a program which takes 2 digits, X,Y as input and generates a 2-dimensional array. The element value in the i-th row and j-th column of the array should be i*j.\n",
    "\n",
    "Note: i=0,1.., X-1; j=0,1,¡¬Y-1.\n",
    "\n",
    "Example\n",
    "\n",
    "Suppose the following inputs are given to the program:\n",
    "\n",
    "3,5\n",
    "\n",
    "Then, the output of the program should be:\n",
    "\n",
    "[[0, 0, 0, 0, 0], [0, 1, 2, 3, 4], [0, 2, 4, 6, 8]] \n"
   ]
  },
  {
   "cell_type": "code",
   "execution_count": 2,
   "id": "4c4f7c2a-0410-4d9f-9c7d-ba5b7ece07fb",
   "metadata": {},
   "outputs": [
    {
     "name": "stdin",
     "output_type": "stream",
     "text": [
      "Enter two digits separated by comma (X,Y):  3,5\n"
     ]
    },
    {
     "name": "stdout",
     "output_type": "stream",
     "text": [
      "Output: [[0, 0, 0, 0, 0], [0, 1, 2, 3, 4], [0, 2, 4, 6, 8]]\n"
     ]
    }
   ],
   "source": [
    "def generate_2d_array(X, Y):\n",
    "    # Initialize an empty 2-dimensional array\n",
    "    result = []\n",
    "    # Iterate over rows\n",
    "    for i in range(X):\n",
    "        # Initialize an empty row\n",
    "        row = []\n",
    "        # Iterate over columns\n",
    "        for j in range(Y):\n",
    "            # Append the value of i*j to the row\n",
    "            row.append(i * j)\n",
    "        # Append the row to the result\n",
    "        result.append(row)\n",
    "    return result\n",
    "\n",
    "# Example inputs\n",
    "X, Y = map(int, input(\"Enter two digits separated by comma (X,Y): \").split(','))\n",
    "\n",
    "# Generate the 2-dimensional array\n",
    "output = generate_2d_array(X, Y)\n",
    "\n",
    "# Print the output\n",
    "print(\"Output:\", output)\n"
   ]
  },
  {
   "cell_type": "markdown",
   "id": "d2f8b989-7521-4553-a3bf-5d6cbaf0d6b7",
   "metadata": {},
   "source": [
    "Question 3:\n",
    "Write a program that accepts a comma separated sequence of words as input and prints the words in a comma-separated sequence after sorting them alphabetically.\n",
    "\n",
    "Suppose the following input is supplied to the program:\n",
    "\n",
    "without,hello,bag,world\n",
    "\n",
    "Then, the output should be:\n",
    "\n",
    "bag,hello,without,world\n"
   ]
  },
  {
   "cell_type": "code",
   "execution_count": 3,
   "id": "f0391fa6-13bc-456b-89e6-c4d76cbc4d3c",
   "metadata": {},
   "outputs": [
    {
     "name": "stdout",
     "output_type": "stream",
     "text": [
      "Output: bag,hello,without,world\n"
     ]
    }
   ],
   "source": [
    "def sort_words(input_string):\n",
    "    # Split the input string by comma and sort the resulting list of words alphabetically\n",
    "    sorted_words = sorted(input_string.split(','))\n",
    "\n",
    "    # Join the sorted words into a comma-separated string\n",
    "    sorted_string = ','.join(sorted_words)\n",
    "\n",
    "    return sorted_string\n",
    "\n",
    "# Example input\n",
    "input_sequence = \"without,hello,bag,world\"\n",
    "\n",
    "# Sort the words and print the output\n",
    "output = sort_words(input_sequence)\n",
    "\n",
    "print(\"Output:\", output)\n"
   ]
  },
  {
   "cell_type": "markdown",
   "id": "bc50f508-a29d-42d5-9f9d-f3e358db6bf5",
   "metadata": {},
   "source": [
    "Question 4:\n",
    "Write a program that accepts a sequence of whitespace separated words as input and prints the words after removing all duplicate words and sorting them alphanumerically.\n",
    "\n",
    "Suppose the following input is supplied to the program:\n",
    "\n",
    "hello world and practice makes perfect and hello world again\n",
    "\n",
    "Then, the output should be:\n",
    "\n",
    "again and hello makes perfect practice world\n"
   ]
  },
  {
   "cell_type": "code",
   "execution_count": 4,
   "id": "bc23010c-d789-425b-9cb6-174bacf668f5",
   "metadata": {},
   "outputs": [
    {
     "name": "stdout",
     "output_type": "stream",
     "text": [
      "Output: again and hello makes perfect practice world\n"
     ]
    }
   ],
   "source": [
    "def remove_duplicates_and_sort(input_string):\n",
    "    # Split the input string by whitespace and convert it into a set to remove duplicates\n",
    "    unique_words = set(input_string.split())\n",
    "\n",
    "    # Sort the set of unique words alphabetically\n",
    "    sorted_words = sorted(unique_words)\n",
    "\n",
    "    # Join the sorted words into a whitespace-separated string\n",
    "    sorted_string = ' '.join(sorted_words)\n",
    "\n",
    "    return sorted_string\n",
    "\n",
    "# Example input\n",
    "input_sequence = \"hello world and practice makes perfect and hello world again\"\n",
    "\n",
    "# Remove duplicates and sort the words, then print the output\n",
    "output = remove_duplicates_and_sort(input_sequence)\n",
    "\n",
    "print(\"Output:\", output)\n"
   ]
  },
  {
   "cell_type": "markdown",
   "id": "79c1187e-acb5-465c-b63a-9760d1528a67",
   "metadata": {},
   "source": [
    "Question 5:\n",
    "Write a program that accepts a sentence and calculate the number of letters and digits.\n",
    "\n",
    "Suppose the following input is supplied to the program:\n",
    "\n",
    "hello world! 123\n",
    "\n",
    "Then, the output should be:\n",
    "\n",
    "LETTERS 10\n",
    "\n",
    "DIGITS 3\n"
   ]
  },
  {
   "cell_type": "code",
   "execution_count": null,
   "id": "195aae8d-0d92-4e79-ad6b-7d1e7d9eedb9",
   "metadata": {},
   "outputs": [],
   "source": []
  }
 ],
 "metadata": {
  "kernelspec": {
   "display_name": "Python 3 (ipykernel)",
   "language": "python",
   "name": "python3"
  },
  "language_info": {
   "codemirror_mode": {
    "name": "ipython",
    "version": 3
   },
   "file_extension": ".py",
   "mimetype": "text/x-python",
   "name": "python",
   "nbconvert_exporter": "python",
   "pygments_lexer": "ipython3",
   "version": "3.11.7"
  }
 },
 "nbformat": 4,
 "nbformat_minor": 5
}
