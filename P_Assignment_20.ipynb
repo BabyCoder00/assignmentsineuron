{
 "cells": [
  {
   "cell_type": "markdown",
   "id": "fa48797b-5866-4807-a33e-cf85bae63184",
   "metadata": {},
   "source": [
    "Question1\n",
    "Create a function that takes a list of strings and integers, and filters out the list so that it returns a list of integers only.\n",
    "Examples\n",
    "filter_list([1, 2, 3, \"a\", \"b\", 4]) ➞ [1, 2, 3, 4]\n",
    "\n",
    "filter_list([\"A\", 0, \"Edabit\", 1729, \"Python\", \"1729\"]) ➞ [0, 1729]\n",
    "\n",
    "filter_list([\"Nothing\", \"here\"]) ➞ []\n"
   ]
  },
  {
   "cell_type": "code",
   "execution_count": 1,
   "id": "8bf54eac-05d4-4a41-a947-eb2759b12d60",
   "metadata": {},
   "outputs": [
    {
     "name": "stdout",
     "output_type": "stream",
     "text": [
      "[1, 2, 3, 4]\n",
      "[0, 1729]\n",
      "[]\n"
     ]
    }
   ],
   "source": [
    "def filter_list(lst):\n",
    "    return [x for x in lst if isinstance(x, int)]\n",
    "\n",
    "# Test cases\n",
    "print(filter_list([1, 2, 3, \"a\", \"b\", 4]))           # Output: [1, 2, 3, 4]\n",
    "print(filter_list([\"A\", 0, \"Edabit\", 1729, \"Python\", \"1729\"]))  # Output: [0, 1729]\n",
    "print(filter_list([\"Nothing\", \"here\"]))              # Output: []\n"
   ]
  },
  {
   "cell_type": "markdown",
   "id": "d640c335-d3dd-4f82-ae62-86ac25484ba5",
   "metadata": {},
   "source": [
    "Question2\n",
    "Given a list of numbers, create a function which returns the list but with each element's index in the list added to itself. This means you add 0 to the number at index 0, add 1 to the number at index 1, etc...\n",
    "Examples\n",
    "add_indexes([0, 0, 0, 0, 0]) ➞ [0, 1, 2, 3, 4]\n",
    "\n",
    "add_indexes([1, 2, 3, 4, 5]) ➞ [1, 3, 5, 7, 9]\n",
    "\n",
    "add_indexes([5, 4, 3, 2, 1]) ➞ [5, 5, 5, 5, 5]\n",
    "\n"
   ]
  },
  {
   "cell_type": "code",
   "execution_count": 2,
   "id": "e20de3b6-3bb7-4ac6-8255-57632b9d03c7",
   "metadata": {},
   "outputs": [
    {
     "name": "stdout",
     "output_type": "stream",
     "text": [
      "[0, 1, 2, 3, 4]\n",
      "[1, 3, 5, 7, 9]\n",
      "[5, 5, 5, 5, 5]\n"
     ]
    }
   ],
   "source": [
    "def add_indexes(lst):\n",
    "    return [i + lst[i] for i in range(len(lst))]\n",
    "\n",
    "# Test cases\n",
    "print(add_indexes([0, 0, 0, 0, 0]))  # Output: [0, 1, 2, 3, 4]\n",
    "print(add_indexes([1, 2, 3, 4, 5]))  # Output: [1, 3, 5, 7, 9]\n",
    "print(add_indexes([5, 4, 3, 2, 1]))  # Output: [5, 5, 5, 5, 5]\n"
   ]
  },
  {
   "cell_type": "markdown",
   "id": "6f91dc43-40a3-431b-a13b-de1cd0816998",
   "metadata": {},
   "source": [
    "Question3\n",
    "Create a function that takes the height and radius of a cone as arguments and returns the volume of the cone rounded to the nearest hundredth. See the resources tab for the formula.\n",
    " \n",
    "Examples\n",
    "cone_volume(3, 2) ➞ 12.57\n",
    "\n",
    "cone_volume(15, 6) ➞ 565.49\n",
    "\n",
    "cone_volume(18, 0) ➞ 0\n",
    "\n"
   ]
  },
  {
   "cell_type": "code",
   "execution_count": 3,
   "id": "0a441eae-5399-4b94-a74d-bed9f15992d3",
   "metadata": {},
   "outputs": [
    {
     "name": "stdout",
     "output_type": "stream",
     "text": [
      "12.57\n",
      "565.49\n",
      "0.0\n"
     ]
    }
   ],
   "source": [
    "import math\n",
    "\n",
    "def cone_volume(h, r):\n",
    "    volume = (1/3) * math.pi * r**2 * h\n",
    "    return round(volume, 2)\n",
    "\n",
    "# Test cases\n",
    "print(cone_volume(3, 2))   # Output: 12.57\n",
    "print(cone_volume(15, 6))  # Output: 565.49\n",
    "print(cone_volume(18, 0))  # Output: 0\n"
   ]
  },
  {
   "cell_type": "markdown",
   "id": "6b71d95c-8fa4-4013-8258-b47d313ed8ac",
   "metadata": {},
   "source": [
    "Question4\n",
    "This Triangular Number Sequence is generated from a pattern of dots that form a triangle. The first 5 numbers of the sequence, or dots, are: \n",
    "1, 3, 6, 10, 15\n",
    "This means that the first triangle has just one dot, the second one has three dots, the third one has 6 dots and so on.\n",
    "Write a function that gives the number of dots with its corresponding triangle number of the sequence.\n",
    "Examples\n",
    "triangle(1) ➞ 1\n",
    "\n",
    "triangle(6) ➞ 21\n",
    "\n",
    "triangle(215) ➞ 23220\n"
   ]
  },
  {
   "cell_type": "code",
   "execution_count": null,
   "id": "490188b0-eb19-4bc0-96a9-f4833154d2fb",
   "metadata": {},
   "outputs": [],
   "source": []
  }
 ],
 "metadata": {
  "kernelspec": {
   "display_name": "Python 3 (ipykernel)",
   "language": "python",
   "name": "python3"
  },
  "language_info": {
   "codemirror_mode": {
    "name": "ipython",
    "version": 3
   },
   "file_extension": ".py",
   "mimetype": "text/x-python",
   "name": "python",
   "nbconvert_exporter": "python",
   "pygments_lexer": "ipython3",
   "version": "3.11.7"
  }
 },
 "nbformat": 4,
 "nbformat_minor": 5
}
