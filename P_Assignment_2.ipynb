{
 "cells": [
  {
   "cell_type": "markdown",
   "id": "7725a360-08ff-4aa2-885b-6065ed4cba00",
   "metadata": {},
   "source": [
    "1.\tWrite a Python program to convert kilometers to miles?"
   ]
  },
  {
   "cell_type": "code",
   "execution_count": 1,
   "id": "4ce7e275-7d89-4d42-8a7b-9e17166b16df",
   "metadata": {},
   "outputs": [
    {
     "name": "stdin",
     "output_type": "stream",
     "text": [
      "Enter distance in kilometers:  1\n"
     ]
    },
    {
     "name": "stdout",
     "output_type": "stream",
     "text": [
      "Distance in miles: 0.621371\n"
     ]
    }
   ],
   "source": [
    "# Function to convert kilometers to miles\n",
    "def km_to_miles(km):\n",
    "    miles = km * 0.621371\n",
    "    return miles\n",
    "\n",
    "# Input kilometers from the user\n",
    "km = float(input(\"Enter distance in kilometers: \"))\n",
    "\n",
    "# Convert kilometers to miles\n",
    "miles = km_to_miles(km)\n",
    "\n",
    "# Print the result\n",
    "print(\"Distance in miles:\", miles)\n"
   ]
  },
  {
   "cell_type": "markdown",
   "id": "b9c7ae77-5cf9-4558-b337-3239aa6a0786",
   "metadata": {},
   "source": [
    "2.\tWrite a Python program to convert Celsius to Fahrenheit?"
   ]
  },
  {
   "cell_type": "code",
   "execution_count": 2,
   "id": "1af1b4db-cf3d-4d14-b4dc-be798ca4754a",
   "metadata": {},
   "outputs": [
    {
     "name": "stdin",
     "output_type": "stream",
     "text": [
      "Enter temperature in Celsius:  1\n"
     ]
    },
    {
     "name": "stdout",
     "output_type": "stream",
     "text": [
      "Temperature in Fahrenheit: 33.8\n"
     ]
    }
   ],
   "source": [
    "# Function to convert Celsius to Fahrenheit\n",
    "def celsius_to_fahrenheit(celsius):\n",
    "    fahrenheit = celsius * 9/5 + 32\n",
    "    return fahrenheit\n",
    "\n",
    "# Input temperature in Celsius from the user\n",
    "celsius = float(input(\"Enter temperature in Celsius: \"))\n",
    "\n",
    "# Convert Celsius to Fahrenheit\n",
    "fahrenheit = celsius_to_fahrenheit(celsius)\n",
    "\n",
    "# Print the result\n",
    "print(\"Temperature in Fahrenheit:\", fahrenheit)\n"
   ]
  },
  {
   "cell_type": "markdown",
   "id": "d36c3535-bdd0-4629-92b7-816b19d535ab",
   "metadata": {},
   "source": [
    "3.\tWrite a Python program to display calendar?"
   ]
  },
  {
   "cell_type": "code",
   "execution_count": 3,
   "id": "14707170-4e13-4ab0-94f9-e48e4ef30f8b",
   "metadata": {},
   "outputs": [
    {
     "name": "stdin",
     "output_type": "stream",
     "text": [
      "Enter the year:  2000\n",
      "Enter the month (1-12):  2\n"
     ]
    },
    {
     "name": "stdout",
     "output_type": "stream",
     "text": [
      "\n",
      "Calendar:\n",
      "   February 2000\n",
      "Mo Tu We Th Fr Sa Su\n",
      "    1  2  3  4  5  6\n",
      " 7  8  9 10 11 12 13\n",
      "14 15 16 17 18 19 20\n",
      "21 22 23 24 25 26 27\n",
      "28 29\n",
      "\n"
     ]
    }
   ],
   "source": [
    "import calendar\n",
    "\n",
    "# Input year and month from the user\n",
    "year = int(input(\"Enter the year: \"))\n",
    "month = int(input(\"Enter the month (1-12): \"))\n",
    "\n",
    "# Display the calendar for the specified year and month\n",
    "print(\"\\nCalendar:\")\n",
    "print(calendar.month(year, month))\n"
   ]
  },
  {
   "cell_type": "markdown",
   "id": "da9e257c-0efe-40b5-9c59-e823412e25a9",
   "metadata": {},
   "source": [
    "4.\tWrite a Python program to solve quadratic equation?"
   ]
  },
  {
   "cell_type": "code",
   "execution_count": 4,
   "id": "4019ea16-697d-46b7-9bef-984c5ec1330a",
   "metadata": {},
   "outputs": [
    {
     "name": "stdin",
     "output_type": "stream",
     "text": [
      "Enter the coefficient a:  25\n",
      "Enter the coefficient b:  16\n",
      "Enter the coefficient c:  9\n"
     ]
    },
    {
     "name": "stdout",
     "output_type": "stream",
     "text": [
      "Root 1: (-0.32+0.5075431016179808j)\n",
      "Root 2: (-0.32-0.5075431016179808j)\n"
     ]
    }
   ],
   "source": [
    "import cmath\n",
    "\n",
    "# Function to solve the quadratic equation\n",
    "def solve_quadratic(a, b, c):\n",
    "    # Calculate the discriminant\n",
    "    discriminant = (b**2) - (4 * a * c)\n",
    "\n",
    "    # Check if the discriminant is positive, zero, or negative\n",
    "    if discriminant >= 0:\n",
    "        # Calculate the two roots\n",
    "        root1 = (-b + cmath.sqrt(discriminant)) / (2 * a)\n",
    "        root2 = (-b - cmath.sqrt(discriminant)) / (2 * a)\n",
    "        return root1, root2\n",
    "    else:\n",
    "        # If the discriminant is negative, return complex roots\n",
    "        root1 = (-b + cmath.sqrt(discriminant)) / (2 * a)\n",
    "        root2 = (-b - cmath.sqrt(discriminant)) / (2 * a)\n",
    "        return root1, root2\n",
    "\n",
    "# Input coefficients from the user\n",
    "a = float(input(\"Enter the coefficient a: \"))\n",
    "b = float(input(\"Enter the coefficient b: \"))\n",
    "c = float(input(\"Enter the coefficient c: \"))\n",
    "\n",
    "# Solve the quadratic equation\n",
    "root1, root2 = solve_quadratic(a, b, c)\n",
    "\n",
    "# Print the roots\n",
    "print(\"Root 1:\", root1)\n",
    "print(\"Root 2:\", root2)\n"
   ]
  },
  {
   "cell_type": "code",
   "execution_count": null,
   "id": "42e9a536-5292-42af-8565-9a36671ad517",
   "metadata": {},
   "outputs": [],
   "source": []
  }
 ],
 "metadata": {
  "kernelspec": {
   "display_name": "Python 3 (ipykernel)",
   "language": "python",
   "name": "python3"
  },
  "language_info": {
   "codemirror_mode": {
    "name": "ipython",
    "version": 3
   },
   "file_extension": ".py",
   "mimetype": "text/x-python",
   "name": "python",
   "nbconvert_exporter": "python",
   "pygments_lexer": "ipython3",
   "version": "3.11.7"
  }
 },
 "nbformat": 4,
 "nbformat_minor": 5
}
