{
 "cells": [
  {
   "cell_type": "markdown",
   "id": "8e98affe-97b3-464a-af96-839cc661ed74",
   "metadata": {},
   "source": [
    "1.\tWrite a Python Program to Find LCM?"
   ]
  },
  {
   "cell_type": "code",
   "execution_count": 1,
   "id": "12902598-9a79-4039-a6d1-005b406f3797",
   "metadata": {},
   "outputs": [
    {
     "name": "stdin",
     "output_type": "stream",
     "text": [
      "Enter first number:  25\n",
      "Enter second number:  5\n"
     ]
    },
    {
     "name": "stdout",
     "output_type": "stream",
     "text": [
      "The LCM of 25 and 5 is: 25\n"
     ]
    }
   ],
   "source": [
    "# Function to find the Greatest Common Divisor (GCD) using Euclid's algorithm\n",
    "def gcd(a, b):\n",
    "    while b != 0:\n",
    "        a, b = b, a % b\n",
    "    return a\n",
    "\n",
    "# Function to find the Least Common Multiple (LCM) of two numbers\n",
    "def lcm(x, y):\n",
    "    return (x * y) // gcd(x, y)\n",
    "\n",
    "# Input two numbers from the user\n",
    "num1 = int(input(\"Enter first number: \"))\n",
    "num2 = int(input(\"Enter second number: \"))\n",
    "\n",
    "# Find and print the LCM of the two numbers\n",
    "lcm_result = lcm(num1, num2)\n",
    "print(\"The LCM of\", num1, \"and\", num2, \"is:\", lcm_result)\n"
   ]
  },
  {
   "cell_type": "markdown",
   "id": "4af52f9b-5605-4dbb-8871-cede57ec0875",
   "metadata": {},
   "source": [
    "2.\tWrite a Python Program to Find HCF?"
   ]
  },
  {
   "cell_type": "code",
   "execution_count": 2,
   "id": "8da3c47d-4be8-4914-b839-26100f518309",
   "metadata": {},
   "outputs": [
    {
     "name": "stdin",
     "output_type": "stream",
     "text": [
      "Enter first number:  20\n",
      "Enter second number:  2\n"
     ]
    },
    {
     "name": "stdout",
     "output_type": "stream",
     "text": [
      "The GCD of 20 and 2 is: 2\n"
     ]
    }
   ],
   "source": [
    "# Function to find the Greatest Common Divisor (GCD) using Euclid's algorithm\n",
    "def gcd(a, b):\n",
    "    while b != 0:\n",
    "        a, b = b, a % b\n",
    "    return a\n",
    "\n",
    "# Input two numbers from the user\n",
    "num1 = int(input(\"Enter first number: \"))\n",
    "num2 = int(input(\"Enter second number: \"))\n",
    "\n",
    "# Find and print the GCD of the two numbers\n",
    "gcd_result = gcd(num1, num2)\n",
    "print(\"The GCD of\", num1, \"and\", num2, \"is:\", gcd_result)\n"
   ]
  },
  {
   "cell_type": "markdown",
   "id": "307ea595-3847-4fe5-a2fb-d6b9f794c279",
   "metadata": {},
   "source": [
    "3.\tWrite a Python Program to Convert Decimal to Binary, Octal and Hexadecimal?"
   ]
  },
  {
   "cell_type": "code",
   "execution_count": 4,
   "id": "395916a2-78ef-4920-b39f-69ae1ce37377",
   "metadata": {},
   "outputs": [
    {
     "name": "stdin",
     "output_type": "stream",
     "text": [
      "Enter a decimal number:  2\n"
     ]
    },
    {
     "name": "stdout",
     "output_type": "stream",
     "text": [
      "Binary: 10\n",
      "Octal: 2\n",
      "Hexadecimal: 2\n"
     ]
    }
   ],
   "source": [
    "# Function to convert decimal to binary\n",
    "def decimal_to_binary(decimal):\n",
    "    return bin(decimal)[2:]\n",
    "\n",
    "# Function to convert decimal to octal\n",
    "def decimal_to_octal(decimal):\n",
    "    return oct(decimal)[2:]\n",
    "\n",
    "# Function to convert decimal to hexadecimal\n",
    "def decimal_to_hexadecimal(decimal):\n",
    "    return hex(decimal)[2:]\n",
    "\n",
    "# Input a decimal number from the user\n",
    "decimal_number = int(input(\"Enter a decimal number: \"))\n",
    "\n",
    "# Convert and print the decimal number to binary, octal, and hexadecimal\n",
    "binary = decimal_to_binary(decimal_number)\n",
    "octal = decimal_to_octal(decimal_number)\n",
    "hexadecimal = decimal_to_hexadecimal(decimal_number)\n",
    "\n",
    "print(\"Binary:\", binary)\n",
    "print(\"Octal:\", octal)\n",
    "print(\"Hexadecimal:\", hexadecimal)\n"
   ]
  },
  {
   "cell_type": "markdown",
   "id": "a2ce1702-212d-420a-8330-a8faf553137b",
   "metadata": {},
   "source": [
    "4.\tWrite a Python Program To Find ASCII value of a character?"
   ]
  },
  {
   "cell_type": "code",
   "execution_count": 5,
   "id": "6c17b0df-cb2e-404d-a7ea-42dd491b988f",
   "metadata": {},
   "outputs": [
    {
     "name": "stdin",
     "output_type": "stream",
     "text": [
      "Enter a character:  A\n"
     ]
    },
    {
     "name": "stdout",
     "output_type": "stream",
     "text": [
      "The ASCII value of A is: 65\n"
     ]
    }
   ],
   "source": [
    "# Input a character from the user\n",
    "character = input(\"Enter a character: \")\n",
    "\n",
    "# Convert the character to its ASCII value\n",
    "ascii_value = ord(character)\n",
    "\n",
    "# Print the ASCII value of the character\n",
    "print(\"The ASCII value of\", character, \"is:\", ascii_value)\n"
   ]
  },
  {
   "cell_type": "markdown",
   "id": "ce2a88c9-05dc-4ee5-b1b0-9d3748a4083c",
   "metadata": {},
   "source": [
    "5.\tWrite a Python Program to Make a Simple Calculator with 4 basic mathematical operations?"
   ]
  },
  {
   "cell_type": "code",
   "execution_count": 6,
   "id": "7473bd1c-5d26-455e-931a-e9211df56d34",
   "metadata": {},
   "outputs": [
    {
     "name": "stdout",
     "output_type": "stream",
     "text": [
      "Select operation:\n",
      "1. Add\n",
      "2. Subtract\n",
      "3. Multiply\n",
      "4. Divide\n"
     ]
    },
    {
     "name": "stdin",
     "output_type": "stream",
     "text": [
      "Enter choice (1/2/3/4):  1\n",
      "Enter first number:  2\n",
      "Enter second number:  3\n"
     ]
    },
    {
     "name": "stdout",
     "output_type": "stream",
     "text": [
      "Result: 5.0\n"
     ]
    }
   ],
   "source": [
    "# Function to add two numbers\n",
    "def add(x, y):\n",
    "    return x + y\n",
    "\n",
    "# Function to subtract two numbers\n",
    "def subtract(x, y):\n",
    "    return x - y\n",
    "\n",
    "# Function to multiply two numbers\n",
    "def multiply(x, y):\n",
    "    return x * y\n",
    "\n",
    "# Function to divide two numbers\n",
    "def divide(x, y):\n",
    "    if y == 0:\n",
    "        return \"Error! Division by zero.\"\n",
    "    else:\n",
    "        return x / y\n",
    "\n",
    "# Display the menu of operations\n",
    "print(\"Select operation:\")\n",
    "print(\"1. Add\")\n",
    "print(\"2. Subtract\")\n",
    "print(\"3. Multiply\")\n",
    "print(\"4. Divide\")\n",
    "\n",
    "# Input the choice of operation from the user\n",
    "choice = input(\"Enter choice (1/2/3/4): \")\n",
    "\n",
    "# Input two numbers from the user\n",
    "num1 = float(input(\"Enter first number: \"))\n",
    "num2 = float(input(\"Enter second number: \"))\n",
    "\n",
    "# Perform the selected operation and print the result\n",
    "if choice == '1':\n",
    "    print(\"Result:\", add(num1, num2))\n",
    "elif choice == '2':\n",
    "    print(\"Result:\", subtract(num1, num2))\n",
    "elif choice == '3':\n",
    "    print(\"Result:\", multiply(num1, num2))\n",
    "elif choice == '4':\n",
    "    print(\"Result:\", divide(num1, num2))\n",
    "else:\n",
    "    print(\"Invalid input! Please enter a valid choice.\")\n"
   ]
  },
  {
   "cell_type": "code",
   "execution_count": null,
   "id": "2148b550-5763-4ba9-9147-329f8b1d6800",
   "metadata": {},
   "outputs": [],
   "source": []
  }
 ],
 "metadata": {
  "kernelspec": {
   "display_name": "Python 3 (ipykernel)",
   "language": "python",
   "name": "python3"
  },
  "language_info": {
   "codemirror_mode": {
    "name": "ipython",
    "version": 3
   },
   "file_extension": ".py",
   "mimetype": "text/x-python",
   "name": "python",
   "nbconvert_exporter": "python",
   "pygments_lexer": "ipython3",
   "version": "3.11.7"
  }
 },
 "nbformat": 4,
 "nbformat_minor": 5
}
