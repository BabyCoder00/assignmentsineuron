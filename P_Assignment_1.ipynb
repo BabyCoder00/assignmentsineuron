{
 "cells": [
  {
   "cell_type": "markdown",
   "id": "c7dfaed4-00d5-4321-b8dc-c8c5f36752f4",
   "metadata": {},
   "source": [
    "1.\tWrite a Python program to print \"Hello Python\"?|"
   ]
  },
  {
   "cell_type": "code",
   "execution_count": 1,
   "id": "9c90a4a3-dd7c-4571-9efb-8565da046448",
   "metadata": {},
   "outputs": [
    {
     "name": "stdout",
     "output_type": "stream",
     "text": [
      "Hello Python\n"
     ]
    }
   ],
   "source": [
    "print(\"Hello Python\")\n"
   ]
  },
  {
   "cell_type": "markdown",
   "id": "92e4a8dc-7f72-4e9c-9212-89bc76011403",
   "metadata": {},
   "source": [
    "2.\tWrite a Python program to do arithmetical operations addition and division.?"
   ]
  },
  {
   "cell_type": "code",
   "execution_count": 2,
   "id": "7ef26fb1-9654-4ddf-a86a-e096b8fb030f",
   "metadata": {},
   "outputs": [
    {
     "name": "stdout",
     "output_type": "stream",
     "text": [
      "Addition: 15\n",
      "Division: 2.0\n"
     ]
    }
   ],
   "source": [
    "# Define two numbers for the operations\n",
    "num1 = 10\n",
    "num2 = 5\n",
    "\n",
    "# Perform addition operation\n",
    "addition_result = num1 + num2\n",
    "print(\"Addition:\", addition_result)\n",
    "\n",
    "# Perform division operation (handling division by zero)\n",
    "if num2 != 0:\n",
    "    division_result = num1 / num2\n",
    "    print(\"Division:\", division_result)\n",
    "else:\n",
    "    print(\"Division by zero is not allowed\")\n"
   ]
  },
  {
   "cell_type": "markdown",
   "id": "b20ffbab-2f8f-45b5-ad9e-de5c1fcdb099",
   "metadata": {},
   "source": [
    "3.\tWrite a Python program to find the area of a triangle?"
   ]
  },
  {
   "cell_type": "code",
   "execution_count": 3,
   "id": "9bc55c83-44e9-4710-b8a3-7b2cd7dd78c3",
   "metadata": {},
   "outputs": [
    {
     "name": "stdin",
     "output_type": "stream",
     "text": [
      "Enter the base of the triangle:  25\n",
      "Enter the height of the triangle:  16\n"
     ]
    },
    {
     "name": "stdout",
     "output_type": "stream",
     "text": [
      "The area of the triangle is: 200.0\n"
     ]
    }
   ],
   "source": [
    "# Function to calculate the area of a triangle\n",
    "def calculate_triangle_area(base, height):\n",
    "    return 0.5 * base * height\n",
    "\n",
    "# Input base and height from the user\n",
    "base = float(input(\"Enter the base of the triangle: \"))\n",
    "height = float(input(\"Enter the height of the triangle: \"))\n",
    "\n",
    "# Calculate the area of the triangle\n",
    "area = calculate_triangle_area(base, height)\n",
    "\n",
    "# Print the area of the triangle\n",
    "print(\"The area of the triangle is:\", area)\n"
   ]
  },
  {
   "cell_type": "markdown",
   "id": "a37896bf-898b-42e4-80d6-cf33ecc2bae4",
   "metadata": {},
   "source": [
    "4.\tWrite a Python program to swap two variables?"
   ]
  },
  {
   "cell_type": "code",
   "execution_count": 4,
   "id": "e9acc206-48e7-4849-a0d6-7517b592b48a",
   "metadata": {},
   "outputs": [
    {
     "name": "stdout",
     "output_type": "stream",
     "text": [
      "After swapping:\n",
      "a = 10\n",
      "b = 5\n"
     ]
    }
   ],
   "source": [
    "# Define two variables\n",
    "a = 5\n",
    "b = 10\n",
    "\n",
    "# Swap the values using multiple assignment\n",
    "a, b = b, a\n",
    "\n",
    "# Print the swapped values\n",
    "print(\"After swapping:\")\n",
    "print(\"a =\", a)\n",
    "print(\"b =\", b)\n"
   ]
  },
  {
   "cell_type": "markdown",
   "id": "8429fe5d-8105-4380-9c10-f6c48312a4d7",
   "metadata": {},
   "source": [
    "5.\tWrite a Python program to generate a random number?"
   ]
  },
  {
   "cell_type": "code",
   "execution_count": 5,
   "id": "92ab39c1-4984-4287-9185-873078235342",
   "metadata": {},
   "outputs": [
    {
     "name": "stdout",
     "output_type": "stream",
     "text": [
      "Random number: 38\n"
     ]
    }
   ],
   "source": [
    "import random\n",
    "\n",
    "# Generate a random number between 0 and 100\n",
    "random_number = random.randint(0, 100)\n",
    "\n",
    "# Print the random number\n",
    "print(\"Random number:\", random_number)\n"
   ]
  },
  {
   "cell_type": "code",
   "execution_count": null,
   "id": "447195cf-6afc-457b-ba73-a9650948c7cb",
   "metadata": {},
   "outputs": [],
   "source": []
  }
 ],
 "metadata": {
  "kernelspec": {
   "display_name": "Python 3 (ipykernel)",
   "language": "python",
   "name": "python3"
  },
  "language_info": {
   "codemirror_mode": {
    "name": "ipython",
    "version": 3
   },
   "file_extension": ".py",
   "mimetype": "text/x-python",
   "name": "python",
   "nbconvert_exporter": "python",
   "pygments_lexer": "ipython3",
   "version": "3.11.7"
  }
 },
 "nbformat": 4,
 "nbformat_minor": 5
}
