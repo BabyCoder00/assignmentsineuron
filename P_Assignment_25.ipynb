{
 "cells": [
  {
   "cell_type": "markdown",
   "id": "4b75c420-39a1-4978-989f-9a7fcb73ca33",
   "metadata": {},
   "source": [
    "Question1\n",
    "Create a function that takes three integer arguments (a, b, c) and returns the amount of integers which are of equal value.\n",
    "Examples\n",
    "equal(3, 4, 3) ➞ 2\n",
    "\n",
    "equal(1, 1, 1) ➞ 3\n",
    "\n",
    "equal(3, 4, 1) ➞ 0 \n",
    "Notes\n",
    "Your function must return 0, 2 or 3.\n",
    "\n"
   ]
  },
  {
   "cell_type": "code",
   "execution_count": 1,
   "id": "91cb18f7-cce8-4fa4-bcf0-6d9d90113c7d",
   "metadata": {},
   "outputs": [
    {
     "name": "stdout",
     "output_type": "stream",
     "text": [
      "2\n",
      "3\n",
      "0\n"
     ]
    }
   ],
   "source": [
    "def equal(a, b, c):\n",
    "    if a == b == c:\n",
    "        return 3\n",
    "    elif a == b or b == c or a == c:\n",
    "        return 2\n",
    "    else:\n",
    "        return 0\n",
    "\n",
    "# Test cases\n",
    "print(equal(3, 4, 3))  # Output: 2\n",
    "print(equal(1, 1, 1))  # Output: 3\n",
    "print(equal(3, 4, 1))  # Output: 0\n"
   ]
  },
  {
   "cell_type": "markdown",
   "id": "180c3f31-0130-4ea7-b9e1-ef737137a0f1",
   "metadata": {},
   "source": [
    "Question2\n",
    "Write a function that converts a dictionary into a list of keys-values tuples.\n",
    "Examples\n",
    "dict_to_list({\n",
    "  \"D\": 1,\n",
    "  \"B\": 2,\n",
    "  \"C\": 3\n",
    "}) ➞ [(\"B\", 2), (\"C\", 3), (\"D\", 1)]\n",
    "\n",
    "dict_to_list({\n",
    "  \"likes\": 2,\n",
    "  \"dislikes\": 3,\n",
    "  \"followers\": 10\n",
    "}) ➞ [(\"dislikes\", 3), (\"followers\", 10), (\"likes\", 2)]\n",
    "Notes\n",
    "Return the elements in the list in alphabetical order.\n"
   ]
  },
  {
   "cell_type": "code",
   "execution_count": 2,
   "id": "096b2412-6c73-4c98-bcb2-cc094bec2580",
   "metadata": {},
   "outputs": [
    {
     "name": "stdout",
     "output_type": "stream",
     "text": [
      "[('B', 2), ('C', 3), ('D', 1)]\n",
      "[('dislikes', 3), ('followers', 10), ('likes', 2)]\n"
     ]
    }
   ],
   "source": [
    "def dict_to_list(dictionary):\n",
    "    return sorted(dictionary.items())\n",
    "\n",
    "# Test cases\n",
    "print(dict_to_list({\"D\": 1, \"B\": 2, \"C\": 3}))  # Output: [('B', 2), ('C', 3), ('D', 1)]\n",
    "print(dict_to_list({\"likes\": 2, \"dislikes\": 3, \"followers\": 10}))  # Output: [('dislikes', 3), ('followers', 10), ('likes', 2)]\n"
   ]
  },
  {
   "cell_type": "markdown",
   "id": "7faffd23-f63a-47ce-970e-2b28d18c46a5",
   "metadata": {},
   "source": [
    "Question3\n",
    "Write a function that creates a dictionary with each (key, value) pair being the (lower case, upper case) versions of a letter, respectively.\n",
    "Examples\n",
    "mapping([\"p\", \"s\"]) ➞ { \"p\": \"P\", \"s\": \"S\" }\n",
    "\n",
    "mapping([\"a\", \"b\", \"c\"]) ➞ { \"a\": \"A\", \"b\": \"B\", \"c\": \"C\" }\n",
    "\n",
    "mapping([\"a\", \"v\", \"y\", \"z\"]) ➞ { \"a\": \"A\", \"v\": \"V\", \"y\": \"Y\", \"z\": \"Z\" }\n",
    "Notes\n",
    "All of the letters in the input list will always be lowercase.\n"
   ]
  },
  {
   "cell_type": "markdown",
   "id": "0f910095-035f-42f8-8370-c2c58b55718b",
   "metadata": {},
   "source": [
    "def mapping(lst):\n",
    "    return {letter: letter.upper() for letter in lst}\n",
    "\n",
    "# Test cases\n",
    "print(mapping([\"p\", \"s\"]))         # Output: {'p': 'P', 's': 'S'}\n",
    "print(mapping([\"a\", \"b\", \"c\"]))     # Output: {'a': 'A', 'b': 'B', 'c': 'C'}\n",
    "print(mapping([\"a\", \"v\", \"y\", \"z\"]))# Output: {'a': 'A', 'v': 'V', 'y': 'Y', 'z': 'Z'}\n"
   ]
  },
  {
   "cell_type": "code",
   "execution_count": 3,
   "id": "8361049e-b23d-413a-9e02-771f7a538364",
   "metadata": {},
   "outputs": [
    {
     "name": "stdout",
     "output_type": "stream",
     "text": [
      "{'p': 'P', 's': 'S'}\n",
      "{'a': 'A', 'b': 'B', 'c': 'C'}\n",
      "{'a': 'A', 'v': 'V', 'y': 'Y', 'z': 'Z'}\n"
     ]
    }
   ],
   "source": [
    "def mapping(lst):\n",
    "    return {letter: letter.upper() for letter in lst}\n",
    "\n",
    "# Test cases\n",
    "print(mapping([\"p\", \"s\"]))         # Output: {'p': 'P', 's': 'S'}\n",
    "print(mapping([\"a\", \"b\", \"c\"]))     # Output: {'a': 'A', 'b': 'B', 'c': 'C'}\n",
    "print(mapping([\"a\", \"v\", \"y\", \"z\"]))# Output: {'a': 'A', 'v': 'V', 'y': 'Y', 'z': 'Z'}\n"
   ]
  },
  {
   "cell_type": "markdown",
   "id": "1046e4f0-b705-4aaf-b96b-dd6c809bfc89",
   "metadata": {},
   "source": [
    "Question4\n",
    "Write a function, that replaces all vowels in a string with a specified vowel.\n",
    "Examples\n",
    "vow_replace(\"apples and bananas\", \"u\") ➞ \"upplus und bununus\"\n",
    "\n",
    "vow_replace(\"cheese casserole\", \"o\") ➞ \"chooso cossorolo\"\n",
    "\n",
    "vow_replace(\"stuffed jalapeno poppers\", \"e\") ➞ \"steffed jelepene peppers\"\n",
    "Notes\n",
    "All words will be lowercase. Y is not considered a vowel.\n"
   ]
  },
  {
   "cell_type": "code",
   "execution_count": 4,
   "id": "a87ae023-f184-41b8-9446-c4ca6300a400",
   "metadata": {},
   "outputs": [
    {
     "name": "stdout",
     "output_type": "stream",
     "text": [
      "upplus und bununus\n",
      "chooso cossorolo\n",
      "steffed jelepene peppers\n"
     ]
    }
   ],
   "source": [
    "def vow_replace(string, vowel):\n",
    "    vowels = \"aeiou\"\n",
    "    return ''.join(vowel if char in vowels else char for char in string)\n",
    "\n",
    "# Test cases\n",
    "print(vow_replace(\"apples and bananas\", \"u\"))         # Output: \"upplus und bununus\"\n",
    "print(vow_replace(\"cheese casserole\", \"o\"))          # Output: \"chooso cossorolo\"\n",
    "print(vow_replace(\"stuffed jalapeno poppers\", \"e\"))  # Output: \"steffed jelepene peppers\"\n"
   ]
  },
  {
   "cell_type": "markdown",
   "id": "862a0990-c9fa-4279-8053-195763fc9b7b",
   "metadata": {},
   "source": [
    "Question5\n",
    "Create a function that takes a string as input and capitalizes a letter if its ASCII code is even and returns its lower case version if its ASCII code is odd.\n",
    "Examples\n",
    "ascii_capitalize(\"to be or not to be!\") ➞ \"To Be oR NoT To Be!\"\n",
    "\n",
    "ascii_capitalize(\"THE LITTLE MERMAID\") ➞ \"THe LiTTLe meRmaiD\"\n",
    "\n",
    "ascii_capitalize(\"Oh what a beautiful morning.\") ➞ \"oH wHaT a BeauTiFuL moRNiNg.\"\n",
    "\n"
   ]
  },
  {
   "cell_type": "code",
   "execution_count": null,
   "id": "b371767f-1777-4e83-b3f8-e6a5be277425",
   "metadata": {},
   "outputs": [],
   "source": [
    "def ascii_capitalize(string):\n",
    "    result = \"\"\n",
    "    for char in string:\n",
    "        if ord(char) % 2 == 0:\n",
    "            result += char.upper()\n",
    "        else:\n",
    "            result += char.lower()\n",
    "    return result\n",
    "\n",
    "# Test cases\n",
    "print(ascii_capitalize(\"to be or not to be!\"))             # Output: \"To Be oR NoT To Be!\"\n",
    "print(ascii_capitalize(\"THE LITTLE MERMAID\"))              # Output: \"THe LiTTLe meRmaiD\"\n",
    "print(ascii_capitalize(\"Oh what a beautiful morning.\"))    # Output: \"oH wHaT a BeauTiFuL moRNiNg.\"\n"
   ]
  },
  {
   "cell_type": "code",
   "execution_count": null,
   "id": "544d42f9-e7c5-48ab-880f-78c5e523bcb1",
   "metadata": {},
   "outputs": [],
   "source": []
  }
 ],
 "metadata": {
  "kernelspec": {
   "display_name": "Python 3 (ipykernel)",
   "language": "python",
   "name": "python3"
  },
  "language_info": {
   "codemirror_mode": {
    "name": "ipython",
    "version": 3
   },
   "file_extension": ".py",
   "mimetype": "text/x-python",
   "name": "python",
   "nbconvert_exporter": "python",
   "pygments_lexer": "ipython3",
   "version": "3.11.7"
  }
 },
 "nbformat": 4,
 "nbformat_minor": 5
}
