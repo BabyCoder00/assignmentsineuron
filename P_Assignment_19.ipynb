{
 "cells": [
  {
   "cell_type": "markdown",
   "id": "31f65a68-f4d0-46f4-9d23-e3096969831d",
   "metadata": {},
   "source": [
    "Question1\n",
    "Create a function that takes a string and returns a string in which each character is repeated once.\n",
    "Examples\n",
    "double_char(\"String\") ➞ \"SSttrriinngg\"\n",
    "\n",
    "double_char(\"Hello World!\") ➞ \"HHeelllloo  WWoorrlldd!!\"\n",
    "\n",
    "double_char(\"1234!_ \") ➞ \"11223344!!__  \n"
   ]
  },
  {
   "cell_type": "code",
   "execution_count": 1,
   "id": "d6a02c1e-5d0a-47b2-bc72-828b1e588306",
   "metadata": {},
   "outputs": [
    {
     "name": "stdout",
     "output_type": "stream",
     "text": [
      "SSttrriinngg\n",
      "HHeelllloo  WWoorrlldd!!\n",
      "11223344!!__  \n"
     ]
    }
   ],
   "source": [
    "def double_char(string):\n",
    "    # Initialize an empty string to store the result\n",
    "    result = \"\"\n",
    "    # Iterate over each character in the input string\n",
    "    for char in string:\n",
    "        # Concatenate each character with itself and append it to the result string\n",
    "        result += char * 2\n",
    "    return result\n",
    "\n",
    "# Test cases\n",
    "print(double_char(\"String\"))        # Output: \"SSttrriinngg\"\n",
    "print(double_char(\"Hello World!\"))  # Output: \"HHeelllloo  WWoorrlldd!!\"\n",
    "print(double_char(\"1234!_ \"))      # Output: \"11223344!!__  \"\n"
   ]
  },
  {
   "cell_type": "markdown",
   "id": "75d91ee5-e8f5-43e5-9e17-32b91c0c03b2",
   "metadata": {},
   "source": [
    "Question2\n",
    "Create a function that reverses a boolean value and returns the string \"boolean expected\" if another variable type is given.\n",
    "Examples\n",
    "reverse(True) ➞ False\n",
    "\n",
    "reverse(False) ➞ True\n",
    "\n",
    "reverse(0) ➞ \"boolean expected\"\n",
    "\n",
    "reverse(None) ➞ \"boolean expected\"\n",
    "\n"
   ]
  },
  {
   "cell_type": "code",
   "execution_count": 2,
   "id": "d1f56a63-2176-4625-9bf0-80ece78121f7",
   "metadata": {},
   "outputs": [
    {
     "name": "stdout",
     "output_type": "stream",
     "text": [
      "False\n",
      "True\n",
      "boolean expected\n",
      "boolean expected\n"
     ]
    }
   ],
   "source": [
    "def reverse(value):\n",
    "    # Check if the input is a boolean value\n",
    "    if isinstance(value, bool):\n",
    "        # If it is, reverse the boolean value and return it\n",
    "        return not value\n",
    "    else:\n",
    "        # If it's not, return \"boolean expected\"\n",
    "        return \"boolean expected\"\n",
    "\n",
    "# Test cases\n",
    "print(reverse(True))   # Output: False\n",
    "print(reverse(False))  # Output: True\n",
    "print(reverse(0))      # Output: \"boolean expected\"\n",
    "print(reverse(None))   # Output: \"boolean expected\"\n"
   ]
  },
  {
   "cell_type": "markdown",
   "id": "8ee5a9df-0f2c-43c2-8f81-3c4756df37a5",
   "metadata": {},
   "source": [
    "Question3\n",
    "Create a function that returns the thickness (in meters) of a piece of paper after folding it n number of times. The paper starts off with a thickness of 0.5mm.\n",
    "Examples\n",
    "num_layers(1) ➞ \"0.001m\"\n",
    "# Paper folded once is 1mm (equal to 0.001m)\n",
    "\n",
    "num_layers(4) ➞ \"0.008m\"\n",
    "# Paper folded 4 times is 8mm (equal to 0.008m)\n",
    "\n",
    "num_layers(21) ➞ \"1048.576m\"\n",
    "# Paper folded 21 times is 1048576mm (equal to 1048.576m)\n"
   ]
  },
  {
   "cell_type": "code",
   "execution_count": 3,
   "id": "cd5c610f-2997-4ce3-b2a6-248aa288b5e9",
   "metadata": {},
   "outputs": [
    {
     "name": "stdout",
     "output_type": "stream",
     "text": [
      "0.001m\n",
      "0.008m\n",
      "1048.576m\n"
     ]
    }
   ],
   "source": [
    "def num_layers(n):\n",
    "    thickness_mm = 0.5 * (2 ** n)\n",
    "    thickness_m = thickness_mm / 1000  # Convert mm to meters\n",
    "    return \"{:.3f}m\".format(thickness_m)\n",
    "\n",
    "# Test cases\n",
    "print(num_layers(1))   # Output: 0.001m\n",
    "print(num_layers(4))   # Output: 0.008m\n",
    "print(num_layers(21))  # Output: 1048.576m\n"
   ]
  },
  {
   "cell_type": "markdown",
   "id": "a25bafc4-1b4f-43fb-a389-4f559b6380ef",
   "metadata": {},
   "source": [
    "Question4\n",
    "Create a function that takes a single string as argument and returns an ordered list containing the indices of all capital letters in the string.\n",
    "Examples\n",
    "index_of_caps(\"eDaBiT\") ➞ [1, 3, 5]\n",
    "\n",
    "index_of_caps(\"eQuINoX\") ➞ [1, 3, 4, 6]\n",
    "\n",
    "index_of_caps(\"determine\") ➞ []\n",
    "\n",
    "index_of_caps(\"STRIKE\") ➞ [0, 1, 2, 3, 4, 5]\n",
    "\n",
    "index_of_caps(\"sUn\") ➞ [1]\n"
   ]
  },
  {
   "cell_type": "code",
   "execution_count": null,
   "id": "5d55eef7-4cf0-40de-b629-0a131894ffd9",
   "metadata": {},
   "outputs": [],
   "source": []
  }
 ],
 "metadata": {
  "kernelspec": {
   "display_name": "Python 3 (ipykernel)",
   "language": "python",
   "name": "python3"
  },
  "language_info": {
   "codemirror_mode": {
    "name": "ipython",
    "version": 3
   },
   "file_extension": ".py",
   "mimetype": "text/x-python",
   "name": "python",
   "nbconvert_exporter": "python",
   "pygments_lexer": "ipython3",
   "version": "3.11.7"
  }
 },
 "nbformat": 4,
 "nbformat_minor": 5
}
