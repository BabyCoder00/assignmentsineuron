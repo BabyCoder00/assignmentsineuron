{
 "cells": [
  {
   "cell_type": "markdown",
   "id": "c8e75a4e-b14a-4b89-8092-a0596ec8d50d",
   "metadata": {},
   "source": [
    "1.\tWrite a Python program to Extract Unique values dictionary values?"
   ]
  },
  {
   "cell_type": "code",
   "execution_count": 1,
   "id": "9ce90a1f-eafc-4afd-a6a1-520766129727",
   "metadata": {},
   "outputs": [
    {
     "name": "stdout",
     "output_type": "stream",
     "text": [
      "Unique values in the dictionary: {1, 2, 3, 4}\n"
     ]
    }
   ],
   "source": [
    "def extract_unique_dictionary_values(dictionary):\n",
    "    # Create an empty set to store unique values\n",
    "    unique_values = set()\n",
    "\n",
    "    # Iterate through each value in the dictionary\n",
    "    for values in dictionary.values():\n",
    "        # If the value is iterable (like a list), extend the unique_values set\n",
    "        if isinstance(values, list):\n",
    "            unique_values.update(values)\n",
    "        else:\n",
    "            unique_values.add(values)\n",
    "\n",
    "    return unique_values\n",
    "\n",
    "# Example dictionary\n",
    "my_dict = {'a': 1, 'b': 2, 'c': [1, 2, 3], 'd': [2, 3, 4], 'e': 1}\n",
    "\n",
    "# Extract unique values from dictionary\n",
    "result = extract_unique_dictionary_values(my_dict)\n",
    "\n",
    "print(\"Unique values in the dictionary:\", result)\n"
   ]
  },
  {
   "cell_type": "markdown",
   "id": "8cce1540-6d3a-4d88-af67-e294938fede9",
   "metadata": {},
   "source": [
    "2.\tWrite a Python program to find the sum of all items in a dictionary?"
   ]
  },
  {
   "cell_type": "code",
   "execution_count": 2,
   "id": "2732975c-4284-40de-b28f-d7a7cfb87694",
   "metadata": {},
   "outputs": [
    {
     "name": "stdout",
     "output_type": "stream",
     "text": [
      "Sum of all items in the dictionary: 100\n"
     ]
    }
   ],
   "source": [
    "def sum_of_dictionary_items(dictionary):\n",
    "    # Use the sum function to sum up the values of the dictionary\n",
    "    return sum(dictionary.values())\n",
    "\n",
    "# Example dictionary\n",
    "my_dict = {'a': 10, 'b': 20, 'c': 30, 'd': 40}\n",
    "\n",
    "# Find the sum of all items in the dictionary\n",
    "result = sum_of_dictionary_items(my_dict)\n",
    "\n",
    "print(\"Sum of all items in the dictionary:\", result)\n"
   ]
  },
  {
   "cell_type": "markdown",
   "id": "be87228d-8bb9-4461-8565-d68b7d4b4fa1",
   "metadata": {},
   "source": [
    "3.\tWrite a Python program to Merging two Dictionaries?"
   ]
  },
  {
   "cell_type": "code",
   "execution_count": 3,
   "id": "39b96071-57f9-4ed2-a7f8-ac826e502538",
   "metadata": {},
   "outputs": [
    {
     "name": "stdout",
     "output_type": "stream",
     "text": [
      "Merged dictionary: {'a': 1, 'b': 2, 'c': 3, 'd': 4}\n"
     ]
    }
   ],
   "source": [
    "def merge_dictionaries(dict1, dict2):\n",
    "    merged_dict = dict1.copy()  # Create a copy of dict1 to preserve its original contents\n",
    "    merged_dict.update(dict2)   # Update with the contents of dict2\n",
    "    return merged_dict\n",
    "\n",
    "# Example dictionaries\n",
    "dict1 = {'a': 1, 'b': 2}\n",
    "dict2 = {'c': 3, 'd': 4}\n",
    "\n",
    "# Merge dictionaries\n",
    "result = merge_dictionaries(dict1, dict2)\n",
    "\n",
    "print(\"Merged dictionary:\", result)\n"
   ]
  },
  {
   "cell_type": "markdown",
   "id": "aef6d2b5-0c0f-4cce-8f08-e356592c4e17",
   "metadata": {},
   "source": [
    "4.\tWrite a Python program to convert key-values list to flat dictionary?"
   ]
  },
  {
   "cell_type": "code",
   "execution_count": 4,
   "id": "c015aa1c-a32c-4fa4-b0df-0f44b2cdf8c6",
   "metadata": {},
   "outputs": [
    {
     "name": "stdout",
     "output_type": "stream",
     "text": [
      "Flat dictionary: {'a': 1, 'b': 2, 'c': 3}\n"
     ]
    }
   ],
   "source": [
    "def list_to_flat_dictionary(kv_list):\n",
    "    flat_dict = {}\n",
    "    for key, value in kv_list:\n",
    "        flat_dict[key] = value\n",
    "    return flat_dict\n",
    "\n",
    "# Example key-values list\n",
    "key_values_list = [(\"a\", 1), (\"b\", 2), (\"c\", 3)]\n",
    "\n",
    "# Convert list to flat dictionary\n",
    "result = list_to_flat_dictionary(key_values_list)\n",
    "\n",
    "print(\"Flat dictionary:\", result)\n"
   ]
  },
  {
   "cell_type": "markdown",
   "id": "cbc193e9-1672-4fd3-b8eb-edd5c72ec392",
   "metadata": {},
   "source": [
    "5.\tWrite a Python program to insertion at the beginning in OrderedDict?"
   ]
  },
  {
   "cell_type": "code",
   "execution_count": 5,
   "id": "9e55ac03-fdd8-4ee4-aed0-344272539a01",
   "metadata": {},
   "outputs": [
    {
     "name": "stdout",
     "output_type": "stream",
     "text": [
      "OrderedDict after insertion at the beginning:\n",
      "OrderedDict([('z', 0), ('a', 1), ('b', 2), ('c', 3)])\n"
     ]
    }
   ],
   "source": [
    "from collections import OrderedDict\n",
    "\n",
    "def insert_at_beginning(ordered_dict, key, value):\n",
    "    # Create a new OrderedDict with the item to be inserted at the beginning\n",
    "    new_ordered_dict = OrderedDict([(key, value)])\n",
    "\n",
    "    # Update the new OrderedDict with the original OrderedDict\n",
    "    new_ordered_dict.update(ordered_dict)\n",
    "\n",
    "    return new_ordered_dict\n",
    "\n",
    "# Example OrderedDict\n",
    "original_ordered_dict = OrderedDict([('a', 1), ('b', 2), ('c', 3)])\n",
    "\n",
    "# Key and value to be inserted at the beginning\n",
    "key_to_insert = 'z'\n",
    "value_to_insert = 0\n",
    "\n",
    "# Insert the item at the beginning\n",
    "result = insert_at_beginning(original_ordered_dict, key_to_insert, value_to_insert)\n",
    "\n",
    "print(\"OrderedDict after insertion at the beginning:\")\n",
    "print(result)\n"
   ]
  },
  {
   "cell_type": "markdown",
   "id": "46fefb37-2cba-4604-9c50-a2bbe8dfaf90",
   "metadata": {},
   "source": [
    "6.\tWrite a Python program to check order of character in string using OrderedDict()?"
   ]
  },
  {
   "cell_type": "code",
   "execution_count": 6,
   "id": "a6567f79-3a98-4d26-91c2-daedee1bb6a1",
   "metadata": {},
   "outputs": [
    {
     "name": "stdout",
     "output_type": "stream",
     "text": [
      "Characters in pattern appear in the specified order in the string.\n"
     ]
    }
   ],
   "source": [
    "from collections import OrderedDict\n",
    "\n",
    "def check_order_of_characters(input_string, pattern):\n",
    "    # Create an OrderedDict to store the occurrences of characters in the pattern\n",
    "    char_count = OrderedDict.fromkeys(pattern, 0)\n",
    "\n",
    "    # Initialize the position of the first character in the pattern\n",
    "    pos = 0\n",
    "\n",
    "    # Iterate through each character in the input string\n",
    "    for char in input_string:\n",
    "        # Check if the current character is in the pattern\n",
    "        if char in char_count:\n",
    "            # Increment the count of the current character in the pattern\n",
    "            char_count[char] += 1\n",
    "\n",
    "            # Check if the current character matches the next character in the pattern\n",
    "            if char == pattern[pos]:\n",
    "                # Move to the next character in the pattern\n",
    "                pos += 1\n",
    "\n",
    "                # If all characters in the pattern have been found, return True\n",
    "                if pos == len(pattern):\n",
    "                    return True\n",
    "\n",
    "    # If all characters in the pattern were not found in the input string in the correct order, return False\n",
    "    return False\n",
    "\n",
    "# Example string and pattern\n",
    "input_string = \"hello world\"\n",
    "pattern = \"llo\"\n",
    "\n",
    "# Check if the characters in the input string appear in the specified order\n",
    "result = check_order_of_characters(input_string, pattern)\n",
    "\n",
    "if result:\n",
    "    print(\"Characters in pattern appear in the specified order in the string.\")\n",
    "else:\n",
    "    print(\"Characters in pattern do not appear in the specified order in the string.\")\n"
   ]
  },
  {
   "cell_type": "markdown",
   "id": "a6aae5d1-d164-4b65-9b14-c77c4e8e4f24",
   "metadata": {},
   "source": [
    "7.\tWrite a Python program to sort Python Dictionaries by Key or Value?"
   ]
  },
  {
   "cell_type": "code",
   "execution_count": null,
   "id": "c660cb04-680d-469a-92ac-108d116537b4",
   "metadata": {},
   "outputs": [],
   "source": []
  }
 ],
 "metadata": {
  "kernelspec": {
   "display_name": "Python 3 (ipykernel)",
   "language": "python",
   "name": "python3"
  },
  "language_info": {
   "codemirror_mode": {
    "name": "ipython",
    "version": 3
   },
   "file_extension": ".py",
   "mimetype": "text/x-python",
   "name": "python",
   "nbconvert_exporter": "python",
   "pygments_lexer": "ipython3",
   "version": "3.11.7"
  }
 },
 "nbformat": 4,
 "nbformat_minor": 5
}
