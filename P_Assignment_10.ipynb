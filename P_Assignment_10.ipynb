{
 "cells": [
  {
   "cell_type": "markdown",
   "id": "4dd999e2-1d75-41bb-a149-8f9ae5b403d4",
   "metadata": {},
   "source": [
    "1.\tWrite a Python program to find sum of elements in list?"
   ]
  },
  {
   "cell_type": "code",
   "execution_count": 1,
   "id": "70fb931a-f9f6-41fb-a17c-fd2a713390b2",
   "metadata": {},
   "outputs": [
    {
     "name": "stdout",
     "output_type": "stream",
     "text": [
      "Sum of elements in the list: 15\n"
     ]
    }
   ],
   "source": [
    "def sum_of_elements(lst):\n",
    "    # Initialize sum to zero\n",
    "    total = 0\n",
    "    \n",
    "    # Iterate through each element in the list and add it to the total\n",
    "    for num in lst:\n",
    "        total += num\n",
    "    \n",
    "    return total\n",
    "\n",
    "# Example list\n",
    "my_list = [1, 2, 3, 4, 5]\n",
    "\n",
    "# Calculate the sum of elements in the list and print the result\n",
    "print(\"Sum of elements in the list:\", sum_of_elements(my_list))\n"
   ]
  },
  {
   "cell_type": "markdown",
   "id": "b3fef331-c3f5-4d89-93a5-f7e85606d1d9",
   "metadata": {},
   "source": [
    "2.\tWrite a Python program to  Multiply all numbers in the list?"
   ]
  },
  {
   "cell_type": "code",
   "execution_count": 2,
   "id": "2e09e298-c92f-46dd-9cf5-d0990e9b1a23",
   "metadata": {},
   "outputs": [
    {
     "name": "stdout",
     "output_type": "stream",
     "text": [
      "Product of all numbers in the list: 120\n"
     ]
    }
   ],
   "source": [
    "def multiply_all_numbers(lst):\n",
    "    # Initialize the product to 1\n",
    "    product = 1\n",
    "    \n",
    "    # Iterate through each element in the list and multiply it with the product\n",
    "    for num in lst:\n",
    "        product *= num\n",
    "    \n",
    "    return product\n",
    "\n",
    "# Example list\n",
    "my_list = [1, 2, 3, 4, 5]\n",
    "\n",
    "# Calculate the product of all numbers in the list and print the result\n",
    "print(\"Product of all numbers in the list:\", multiply_all_numbers(my_list))\n"
   ]
  },
  {
   "cell_type": "markdown",
   "id": "5f6d2fa3-5b94-4fbe-a3f9-3d8f82528f28",
   "metadata": {},
   "source": [
    "3.\tWrite a Python program to find smallest number in a list?"
   ]
  },
  {
   "cell_type": "code",
   "execution_count": 3,
   "id": "545d57c9-ae8b-46b3-a41a-b1e5044a5fc3",
   "metadata": {},
   "outputs": [
    {
     "name": "stdout",
     "output_type": "stream",
     "text": [
      "Smallest number in the list: 1\n"
     ]
    }
   ],
   "source": [
    "def find_smallest(lst):\n",
    "    # Check if the list is empty\n",
    "    if not lst:\n",
    "        return None\n",
    "    \n",
    "    # Initialize the smallest number to the first element of the list\n",
    "    smallest = lst[0]\n",
    "    \n",
    "    # Iterate through each element in the list\n",
    "    for num in lst:\n",
    "        # Update the smallest number if the current number is smaller\n",
    "        if num < smallest:\n",
    "            smallest = num\n",
    "    \n",
    "    return smallest\n",
    "\n",
    "# Example list\n",
    "my_list = [5, 2, 7, 1, 9, 3]\n",
    "\n",
    "# Find the smallest number in the list and print the result\n",
    "print(\"Smallest number in the list:\", find_smallest(my_list))\n"
   ]
  },
  {
   "cell_type": "markdown",
   "id": "cbd27ac0-a088-4fdb-97b4-d91bd2ea3088",
   "metadata": {},
   "source": [
    "4.\tWrite a Python program to find largest number in a list?"
   ]
  },
  {
   "cell_type": "code",
   "execution_count": 4,
   "id": "0deadaca-ace1-4422-b3a3-20f06b847e9b",
   "metadata": {},
   "outputs": [
    {
     "name": "stdout",
     "output_type": "stream",
     "text": [
      "Largest number in the list: 9\n"
     ]
    }
   ],
   "source": [
    "def find_largest(lst):\n",
    "    # Check if the list is empty\n",
    "    if not lst:\n",
    "        return None\n",
    "    \n",
    "    # Initialize the largest number to the first element of the list\n",
    "    largest = lst[0]\n",
    "    \n",
    "    # Iterate through each element in the list\n",
    "    for num in lst:\n",
    "        # Update the largest number if the current number is larger\n",
    "        if num > largest:\n",
    "            largest = num\n",
    "    \n",
    "    return largest\n",
    "\n",
    "# Example list\n",
    "my_list = [5, 2, 7, 1, 9, 3]\n",
    "\n",
    "# Find the largest number in the list and print the result\n",
    "print(\"Largest number in the list:\", find_largest(my_list))\n"
   ]
  },
  {
   "cell_type": "markdown",
   "id": "f3cd9c49-9dc7-48fb-b67f-ddd2d9dcb02f",
   "metadata": {},
   "source": [
    "5.\tWrite a Python program to find second largest number in a list?"
   ]
  },
  {
   "cell_type": "code",
   "execution_count": 7,
   "id": "dd925666-ad01-4054-bf7d-345fade668ff",
   "metadata": {},
   "outputs": [
    {
     "name": "stdout",
     "output_type": "stream",
     "text": [
      "Second largest number in the list: 7\n"
     ]
    }
   ],
   "source": [
    "def find_second_largest(lst):\n",
    "    # Check if the list has less than 2 elements\n",
    "    if len(lst) < 2:\n",
    "        return None\n",
    "    \n",
    "    # Sort the list in descending order\n",
    "    sorted_list = sorted(lst, reverse=True)\n",
    "    \n",
    "    # Return the second element, which is the second largest number\n",
    "    return sorted_list[1]\n",
    "\n",
    "# Example list\n",
    "my_list = [5, 2, 7, 1, 9, 3]\n",
    "\n",
    "# Find the second largest number in the list and print the result\n",
    "print(\"Second largest number in the list:\", find_second_largest(my_list))\n"
   ]
  },
  {
   "cell_type": "markdown",
   "id": "0adaaa57-c643-4b93-a3d4-93c90f04d964",
   "metadata": {},
   "source": [
    "6.\tWrite a Python program to find N largest elements from a list?"
   ]
  },
  {
   "cell_type": "code",
   "execution_count": 6,
   "id": "190c65b9-66ea-4052-91aa-b977627b7849",
   "metadata": {},
   "outputs": [
    {
     "name": "stdout",
     "output_type": "stream",
     "text": [
      "3 largest elements in the list: [9, 7, 5]\n"
     ]
    }
   ],
   "source": [
    "def find_n_largest(lst, n):\n",
    "    # Check if the list has less than N elements\n",
    "    if len(lst) < n:\n",
    "        return None\n",
    "    \n",
    "    # Sort the list in descending order\n",
    "    sorted_list = sorted(lst, reverse=True)\n",
    "    \n",
    "    # Return the first N elements, which are the N largest numbers\n",
    "    return sorted_list[:n]\n",
    "\n",
    "# Example list\n",
    "my_list = [5, 2, 7, 1, 9, 3]\n",
    "\n",
    "# Number of largest elements to find\n",
    "N = 3\n",
    "\n",
    "# Find the N largest elements in the list and print the result\n",
    "print(f\"{N} largest elements in the list:\", find_n_largest(my_list, N))\n"
   ]
  },
  {
   "cell_type": "markdown",
   "id": "fad9b30d-ba77-418e-9132-8d92b1c6b515",
   "metadata": {},
   "source": [
    "7.\tWrite a Python program to print even numbers in a list?"
   ]
  },
  {
   "cell_type": "code",
   "execution_count": 1,
   "id": "79fb5cfe-2d00-4d72-ab1e-13142265c392",
   "metadata": {},
   "outputs": [
    {
     "name": "stdout",
     "output_type": "stream",
     "text": [
      "Even numbers in the list:\n",
      "2\n",
      "4\n",
      "6\n",
      "8\n",
      "10\n"
     ]
    }
   ],
   "source": [
    "def print_even_numbers(lst):\n",
    "    for num in lst:\n",
    "        if num % 2 == 0:\n",
    "            print(num)\n",
    "\n",
    "# Example list\n",
    "my_list = [1, 2, 3, 4, 5, 6, 7, 8, 9, 10]\n",
    "\n",
    "print(\"Even numbers in the list:\")\n",
    "print_even_numbers(my_list)\n"
   ]
  },
  {
   "cell_type": "markdown",
   "id": "95fa9fc9-3aa4-49c2-adf6-a00395128be6",
   "metadata": {},
   "source": [
    "8.\tWrite a Python program to print odd numbers in a List?"
   ]
  },
  {
   "cell_type": "code",
   "execution_count": 2,
   "id": "9ae717ad-dc73-4c4d-b71a-ee3856a759dd",
   "metadata": {},
   "outputs": [
    {
     "name": "stdout",
     "output_type": "stream",
     "text": [
      "Odd numbers in the list:\n",
      "1\n",
      "3\n",
      "5\n",
      "7\n",
      "9\n"
     ]
    }
   ],
   "source": [
    "def print_odd_numbers(lst):\n",
    "    for num in lst:\n",
    "        if num % 2 != 0:\n",
    "            print(num)\n",
    "\n",
    "# Example list\n",
    "my_list = [1, 2, 3, 4, 5, 6, 7, 8, 9, 10]\n",
    "\n",
    "print(\"Odd numbers in the list:\")\n",
    "print_odd_numbers(my_list)\n"
   ]
  },
  {
   "cell_type": "markdown",
   "id": "24aaf1f0-c182-4d8b-93ea-51d8e5984cec",
   "metadata": {},
   "source": [
    "9.\tWrite a Python program to Remove empty List from List?"
   ]
  },
  {
   "cell_type": "code",
   "execution_count": 3,
   "id": "4bac3947-9f63-49a7-ab7e-a6bf7a6cfe28",
   "metadata": {},
   "outputs": [
    {
     "name": "stdout",
     "output_type": "stream",
     "text": [
      "List before removing empty lists: [[1, 2], [], [3, 4], [], [], [5, 6], []]\n",
      "List after removing empty lists: [[1, 2], [3, 4], [5, 6]]\n"
     ]
    }
   ],
   "source": [
    "def remove_empty_lists(lst):\n",
    "    return [sublist for sublist in lst if sublist]\n",
    "\n",
    "# Example list containing empty lists\n",
    "my_list = [[1, 2], [], [3, 4], [], [], [5, 6], []]\n",
    "\n",
    "print(\"List before removing empty lists:\", my_list)\n",
    "my_list = remove_empty_lists(my_list)\n",
    "print(\"List after removing empty lists:\", my_list)\n"
   ]
  },
  {
   "cell_type": "markdown",
   "id": "c82969e8-6660-4b27-bad9-e56db6375cf7",
   "metadata": {},
   "source": [
    "10.\tWrite a Python program to Cloning or Copying a list?"
   ]
  },
  {
   "cell_type": "code",
   "execution_count": 4,
   "id": "354a738a-2502-4675-9061-4915e24f3ca0",
   "metadata": {},
   "outputs": [
    {
     "name": "stdout",
     "output_type": "stream",
     "text": [
      "Original list: [1, 2, 3, 4, 5]\n",
      "Cloned list: [1, 2, 3, 4, 5]\n"
     ]
    }
   ],
   "source": [
    "def clone_list(lst):\n",
    "    return lst[:]\n",
    "\n",
    "# Example list\n",
    "original_list = [1, 2, 3, 4, 5]\n",
    "\n",
    "# Cloning the list\n",
    "cloned_list = clone_list(original_list)\n",
    "\n",
    "print(\"Original list:\", original_list)\n",
    "print(\"Cloned list:\", cloned_list)\n"
   ]
  },
  {
   "cell_type": "code",
   "execution_count": null,
   "id": "50c27ad4-46c6-4ae6-96f0-5667cf1ac88b",
   "metadata": {},
   "outputs": [],
   "source": []
  }
 ],
 "metadata": {
  "kernelspec": {
   "display_name": "Python 3 (ipykernel)",
   "language": "python",
   "name": "python3"
  },
  "language_info": {
   "codemirror_mode": {
    "name": "ipython",
    "version": 3
   },
   "file_extension": ".py",
   "mimetype": "text/x-python",
   "name": "python",
   "nbconvert_exporter": "python",
   "pygments_lexer": "ipython3",
   "version": "3.11.7"
  }
 },
 "nbformat": 4,
 "nbformat_minor": 5
}
