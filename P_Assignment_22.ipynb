{
 "cells": [
  {
   "cell_type": "markdown",
   "id": "f77f3318-cde7-4940-b7b1-68ab1fdd86ac",
   "metadata": {},
   "source": [
    "Question1\n",
    "Create a function that takes three parameters where:\n",
    "•\tx is the start of the range (inclusive).\n",
    "•\ty is the end of the range (inclusive).\n",
    "•\tn is the divisor to be checked against.\n",
    "Return an ordered list with numbers in the range that are divisible by the third parameter n. Return an empty list if there are no numbers that are divisible by n.\n",
    "Examples\n",
    "list_operation(1, 10, 3) ➞ [3, 6, 9]\n",
    "\n",
    "list_operation(7, 9, 2) ➞ [8]\n",
    "\n",
    "list_operation(15, 20, 7) ➞ []\n"
   ]
  },
  {
   "cell_type": "code",
   "execution_count": 1,
   "id": "89c46459-7730-4954-960d-22676a7adb04",
   "metadata": {},
   "outputs": [
    {
     "name": "stdout",
     "output_type": "stream",
     "text": [
      "[3, 6, 9]\n",
      "[8]\n",
      "[]\n"
     ]
    }
   ],
   "source": [
    "def list_operation(x, y, n):\n",
    "    return [i for i in range(x, y+1) if i % n == 0]\n",
    "\n",
    "# Test cases\n",
    "print(list_operation(1, 10, 3))   # Output: [3, 6, 9]\n",
    "print(list_operation(7, 9, 2))    # Output: [8]\n",
    "print(list_operation(15, 20, 7))  # Output: []\n"
   ]
  },
  {
   "cell_type": "markdown",
   "id": "07993a50-ac35-407d-84e9-12e2a2a4c192",
   "metadata": {},
   "source": [
    "Question2\n",
    "Create a function that takes in two lists and returns True if the second list follows the first list by one element, and False otherwise. In other words, determine if the second list is the first list shifted to the right by 1.\n",
    "Examples\n",
    "simon_says([1, 2], [5, 1]) ➞ True\n",
    "\n",
    "simon_says([1, 2], [5, 5]) ➞ False\n",
    "\n",
    "simon_says([1, 2, 3, 4, 5], [0, 1, 2, 3, 4]) ➞ True\n",
    "\n",
    "simon_says([1, 2, 3, 4, 5], [5, 5, 1, 2, 3]) ➞ False\n",
    "Notes\n",
    "•\tBoth input lists will be of the same length, and will have a minimum length of 2.\n",
    "•\tThe values of the 0-indexed element in the second list and the n-1th indexed element in the first list do not matter.\n"
   ]
  },
  {
   "cell_type": "code",
   "execution_count": 2,
   "id": "17b83ecf-f023-4269-ac46-99666492c30b",
   "metadata": {},
   "outputs": [
    {
     "name": "stdout",
     "output_type": "stream",
     "text": [
      "True\n",
      "False\n",
      "True\n",
      "False\n"
     ]
    }
   ],
   "source": [
    "def simon_says(lst1, lst2):\n",
    "    return lst1[:-1] == lst2[1:]\n",
    "\n",
    "# Test cases\n",
    "print(simon_says([1, 2], [5, 1]))                 # Output: True\n",
    "print(simon_says([1, 2], [5, 5]))                 # Output: False\n",
    "print(simon_says([1, 2, 3, 4, 5], [0, 1, 2, 3, 4])) # Output: True\n",
    "print(simon_says([1, 2, 3, 4, 5], [5, 5, 1, 2, 3])) # Output: False\n"
   ]
  },
  {
   "cell_type": "markdown",
   "id": "6c9dea34-93e9-43da-9d75-df7c37cd269f",
   "metadata": {},
   "source": [
    "Question3\n",
    "A group of friends have decided to start a secret society. The name will be the first letter of each of their names, sorted in alphabetical order.\n",
    "Create a function that takes in a list of names and returns the name of the secret society.\n",
    "Examples\n",
    "society_name([\"Adam\", \"Sarah\", \"Malcolm\"]) ➞ \"AMS\"\n",
    "\n",
    "society_name([\"Harry\", \"Newt\", \"Luna\", \"Cho\"]) ➞ \"CHLN\"\n",
    "\n",
    "society_name([\"Phoebe\", \"Chandler\", \"Rachel\", \"Ross\", \"Monica\", \"Joey\"])\n",
    "\n"
   ]
  },
  {
   "cell_type": "code",
   "execution_count": 3,
   "id": "3b2252f3-2278-47fd-8ea2-92e7318de99a",
   "metadata": {},
   "outputs": [
    {
     "name": "stdout",
     "output_type": "stream",
     "text": [
      "AMS\n",
      "CHLN\n",
      "CJMPRR\n"
     ]
    }
   ],
   "source": [
    "def society_name(names):\n",
    "    return ''.join(sorted(name[0] for name in names))\n",
    "\n",
    "# Test cases\n",
    "print(society_name([\"Adam\", \"Sarah\", \"Malcolm\"]))  # Output: \"AMS\"\n",
    "print(society_name([\"Harry\", \"Newt\", \"Luna\", \"Cho\"]))  # Output: \"CHLN\"\n",
    "print(society_name([\"Phoebe\", \"Chandler\", \"Rachel\", \"Ross\", \"Monica\", \"Joey\"]))  # Output: \"CJMPRR\"\n"
   ]
  },
  {
   "cell_type": "markdown",
   "id": "8b98c645-f612-4bb0-81da-b3bbb7570a1d",
   "metadata": {},
   "source": [
    "Question4\n",
    "An isogram is a word that has no duplicate letters. Create a function that takes a string and returns either True or False depending on whether or not it's an \"isogram\".\n",
    "Examples\n",
    "is_isogram(\"Algorism\") ➞ True\n",
    "\n",
    "is_isogram(\"PasSword\") ➞ False\n",
    "# Not case sensitive.\n",
    "\n",
    "is_isogram(\"Consecutive\") ➞ False\n",
    "Notes\n",
    "•\tIgnore letter case (should not be case sensitive).\n",
    "•\tAll test cases contain valid one word strings.\n"
   ]
  },
  {
   "cell_type": "code",
   "execution_count": 4,
   "id": "a3d8b5b9-df12-4ca7-a2b2-713aee88d7ba",
   "metadata": {},
   "outputs": [
    {
     "name": "stdout",
     "output_type": "stream",
     "text": [
      "True\n",
      "False\n",
      "False\n"
     ]
    }
   ],
   "source": [
    "def is_isogram(string):\n",
    "    # Convert the string to lowercase\n",
    "    string_lower = string.lower()\n",
    "    # Create a set to store unique characters\n",
    "    unique_chars = set()\n",
    "    # Iterate through the characters of the string\n",
    "    for char in string_lower:\n",
    "        # Check if the character is alphanumeric\n",
    "        if char.isalpha():\n",
    "            # Check if the character is already in the set\n",
    "            if char in unique_chars:\n",
    "                return False\n",
    "            else:\n",
    "                unique_chars.add(char)\n",
    "    return True\n",
    "\n",
    "# Test cases\n",
    "print(is_isogram(\"Algorism\"))      # Output: True\n",
    "print(is_isogram(\"PasSword\"))      # Output: False\n",
    "print(is_isogram(\"Consecutive\"))   # Output: False\n"
   ]
  },
  {
   "cell_type": "markdown",
   "id": "3eeefa8b-909f-4a3d-a976-d470d4ef6fa8",
   "metadata": {},
   "source": [
    "Question5\n",
    "Create a function that takes a string and returns True or False, depending on whether the characters are in order or not.\n",
    "Examples\n",
    "is_in_order(\"abc\") ➞ True\n",
    "\n",
    "is_in_order(\"edabit\") ➞ False\n",
    "\n",
    "is_in_order(\"123\") ➞ True\n",
    "\n",
    "is_in_order(\"xyzz\") ➞ True\n",
    "Notes\n",
    "You don't have to handle empty strings.\n"
   ]
  },
  {
   "cell_type": "code",
   "execution_count": null,
   "id": "b578d179-3199-40a1-a84d-868fd91f6975",
   "metadata": {},
   "outputs": [],
   "source": []
  }
 ],
 "metadata": {
  "kernelspec": {
   "display_name": "Python 3 (ipykernel)",
   "language": "python",
   "name": "python3"
  },
  "language_info": {
   "codemirror_mode": {
    "name": "ipython",
    "version": 3
   },
   "file_extension": ".py",
   "mimetype": "text/x-python",
   "name": "python",
   "nbconvert_exporter": "python",
   "pygments_lexer": "ipython3",
   "version": "3.11.7"
  }
 },
 "nbformat": 4,
 "nbformat_minor": 5
}
