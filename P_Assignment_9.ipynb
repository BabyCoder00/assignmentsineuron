{
 "cells": [
  {
   "cell_type": "markdown",
   "id": "40353496-7b2c-4484-a29c-83f4c3b2ee21",
   "metadata": {},
   "source": [
    "1.\tWrite a Python program to check if the given number is a Disarium Number?"
   ]
  },
  {
   "cell_type": "code",
   "execution_count": 1,
   "id": "eced93a4-6410-46e5-968c-38808205d7de",
   "metadata": {},
   "outputs": [
    {
     "name": "stdin",
     "output_type": "stream",
     "text": [
      "Enter a number:  89\n"
     ]
    },
    {
     "name": "stdout",
     "output_type": "stream",
     "text": [
      "89 is a Disarium number.\n"
     ]
    }
   ],
   "source": [
    "def is_disarium(number):\n",
    "    # Convert the number to a string to iterate over its digits\n",
    "    number_str = str(number)\n",
    "    n = len(number_str)\n",
    "    sum_of_digits = 0\n",
    "\n",
    "    # Iterate over each digit of the number\n",
    "    for i in range(n):\n",
    "        digit = int(number_str[i])\n",
    "        # Add the digit raised to the power of its position to the sum\n",
    "        sum_of_digits += digit ** (i + 1)\n",
    "\n",
    "    # Check if the sum of the digits is equal to the original number\n",
    "    return sum_of_digits == number\n",
    "\n",
    "# Input the number from the user\n",
    "number = int(input(\"Enter a number: \"))\n",
    "\n",
    "# Check if the number is a Disarium number and print the result\n",
    "if is_disarium(number):\n",
    "    print(number, \"is a Disarium number.\")\n",
    "else:\n",
    "    print(number, \"is not a Disarium number.\")\n"
   ]
  },
  {
   "cell_type": "markdown",
   "id": "5d582a83-ad2f-4be6-98a7-82848127a569",
   "metadata": {},
   "source": [
    "2.\tWrite a Python program to print all disarium numbers between 1 to 100?"
   ]
  },
  {
   "cell_type": "code",
   "execution_count": 2,
   "id": "e071ad33-ed7e-4ad0-990a-0ba08a67ff21",
   "metadata": {},
   "outputs": [
    {
     "name": "stdout",
     "output_type": "stream",
     "text": [
      "1 2 3 4 5 6 7 8 9 89 "
     ]
    }
   ],
   "source": [
    "def is_disarium(number):\n",
    "    # Convert the number to a string to iterate over its digits\n",
    "    number_str = str(number)\n",
    "    n = len(number_str)\n",
    "    sum_of_digits = 0\n",
    "\n",
    "    # Iterate over each digit of the number\n",
    "    for i in range(n):\n",
    "        digit = int(number_str[i])\n",
    "        # Add the digit raised to the power of its position to the sum\n",
    "        sum_of_digits += digit ** (i + 1)\n",
    "\n",
    "    # Check if the sum of the digits is equal to the original number\n",
    "    return sum_of_digits == number\n",
    "\n",
    "# Iterate over the numbers from 1 to 100\n",
    "for i in range(1, 101):\n",
    "    # Check if the number is a Disarium number and print it if true\n",
    "    if is_disarium(i):\n",
    "        print(i, end=' ')\n"
   ]
  },
  {
   "cell_type": "markdown",
   "id": "a218d64d-812d-4c65-9096-79344269b910",
   "metadata": {},
   "source": [
    "3.\tWrite a Python program to check if the given number is Happy Number?"
   ]
  },
  {
   "cell_type": "code",
   "execution_count": 3,
   "id": "dcca1717-4d65-4543-8e43-cc0b72ed9057",
   "metadata": {},
   "outputs": [
    {
     "name": "stdin",
     "output_type": "stream",
     "text": [
      "Enter a number:  19\n"
     ]
    },
    {
     "name": "stdout",
     "output_type": "stream",
     "text": [
      "19 is a Happy number.\n"
     ]
    }
   ],
   "source": [
    "def is_happy(number):\n",
    "    # Create a set to store the seen numbers to detect cycles\n",
    "    seen = set()\n",
    "\n",
    "    # Loop until the number becomes 1 (happy) or enters a cycle\n",
    "    while number != 1:\n",
    "        # If the number is already seen, it's in a cycle and not a happy number\n",
    "        if number in seen:\n",
    "            return False\n",
    "        # Add the number to the set of seen numbers\n",
    "        seen.add(number)\n",
    "        # Calculate the sum of the squares of its digits\n",
    "        number = sum(int(digit)**2 for digit in str(number))\n",
    "\n",
    "    # If the number becomes 1, it's a happy number\n",
    "    return True\n",
    "\n",
    "# Input the number from the user\n",
    "number = int(input(\"Enter a number: \"))\n",
    "\n",
    "# Check if the number is a happy number and print the result\n",
    "if is_happy(number):\n",
    "    print(number, \"is a Happy number.\")\n",
    "else:\n",
    "    print(number, \"is not a Happy number.\")\n"
   ]
  },
  {
   "cell_type": "markdown",
   "id": "05d2729e-38e8-46eb-a4dd-e981aa90d2e0",
   "metadata": {},
   "source": [
    "4.\tWrite a Python program to print all happy numbers between 1 and 100?"
   ]
  },
  {
   "cell_type": "code",
   "execution_count": 4,
   "id": "de6a57e7-976e-42b9-ae8b-f167cb2a2141",
   "metadata": {},
   "outputs": [
    {
     "name": "stdout",
     "output_type": "stream",
     "text": [
      "1 7 10 13 19 23 28 31 32 44 49 68 70 79 82 86 91 94 97 100 "
     ]
    }
   ],
   "source": [
    "def is_happy(number):\n",
    "    # Create a set to store the seen numbers to detect cycles\n",
    "    seen = set()\n",
    "\n",
    "    # Loop until the number becomes 1 (happy) or enters a cycle\n",
    "    while number != 1:\n",
    "        # If the number is already seen, it's in a cycle and not a happy number\n",
    "        if number in seen:\n",
    "            return False\n",
    "        # Add the number to the set of seen numbers\n",
    "        seen.add(number)\n",
    "        # Calculate the sum of the squares of its digits\n",
    "        number = sum(int(digit)**2 for digit in str(number))\n",
    "\n",
    "    # If the number becomes 1, it's a happy number\n",
    "    return True\n",
    "\n",
    "# Iterate over the numbers from 1 to 100\n",
    "for i in range(1, 101):\n",
    "    # Check if the number is a happy number and print it if true\n",
    "    if is_happy(i):\n",
    "        print(i, end=' ')\n"
   ]
  },
  {
   "cell_type": "code",
   "execution_count": null,
   "id": "2f74a18a-7977-4694-afa8-f6774657c312",
   "metadata": {},
   "outputs": [],
   "source": [
    "5.\tWrite a Python program to determine whether the given number is a Harshad Number?"
   ]
  }
 ],
 "metadata": {
  "kernelspec": {
   "display_name": "Python 3 (ipykernel)",
   "language": "python",
   "name": "python3"
  },
  "language_info": {
   "codemirror_mode": {
    "name": "ipython",
    "version": 3
   },
   "file_extension": ".py",
   "mimetype": "text/x-python",
   "name": "python",
   "nbconvert_exporter": "python",
   "pygments_lexer": "ipython3",
   "version": "3.11.7"
  }
 },
 "nbformat": 4,
 "nbformat_minor": 5
}
